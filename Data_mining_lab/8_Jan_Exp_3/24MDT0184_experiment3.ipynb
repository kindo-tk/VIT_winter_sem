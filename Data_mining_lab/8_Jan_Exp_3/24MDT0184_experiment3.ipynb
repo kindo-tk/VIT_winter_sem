{
 "cells": [
  {
   "cell_type": "markdown",
   "id": "6a404268",
   "metadata": {},
   "source": [
    "# Experiment 3\n",
    "## 8 January"
   ]
  },
  {
   "cell_type": "markdown",
   "id": "2d07352d",
   "metadata": {},
   "source": [
    "### Download the dataset ’Book1.csv’ from moodle. This dataset has information regarding the house price and many features depending on it. Open the CSV file and see the different features and the target variable Y (house price) also."
   ]
  },
  {
   "cell_type": "code",
   "execution_count": 36,
   "id": "ea8e1606",
   "metadata": {},
   "outputs": [
    {
     "data": {
      "text/html": [
       "<div>\n",
       "<style scoped>\n",
       "    .dataframe tbody tr th:only-of-type {\n",
       "        vertical-align: middle;\n",
       "    }\n",
       "\n",
       "    .dataframe tbody tr th {\n",
       "        vertical-align: top;\n",
       "    }\n",
       "\n",
       "    .dataframe thead th {\n",
       "        text-align: right;\n",
       "    }\n",
       "</style>\n",
       "<table border=\"1\" class=\"dataframe\">\n",
       "  <thead>\n",
       "    <tr style=\"text-align: right;\">\n",
       "      <th></th>\n",
       "      <th>price</th>\n",
       "      <th>area</th>\n",
       "      <th>bedrooms</th>\n",
       "      <th>bathrooms</th>\n",
       "      <th>stories</th>\n",
       "      <th>parking</th>\n",
       "      <th>furnishingstatus</th>\n",
       "    </tr>\n",
       "  </thead>\n",
       "  <tbody>\n",
       "    <tr>\n",
       "      <th>0</th>\n",
       "      <td>13300000</td>\n",
       "      <td>7420</td>\n",
       "      <td>4</td>\n",
       "      <td>2</td>\n",
       "      <td>3</td>\n",
       "      <td>2</td>\n",
       "      <td>furnished</td>\n",
       "    </tr>\n",
       "    <tr>\n",
       "      <th>1</th>\n",
       "      <td>12250000</td>\n",
       "      <td>8960</td>\n",
       "      <td>4</td>\n",
       "      <td>4</td>\n",
       "      <td>4</td>\n",
       "      <td>3</td>\n",
       "      <td>furnished</td>\n",
       "    </tr>\n",
       "    <tr>\n",
       "      <th>2</th>\n",
       "      <td>12250000</td>\n",
       "      <td>9960</td>\n",
       "      <td>3</td>\n",
       "      <td>2</td>\n",
       "      <td>2</td>\n",
       "      <td>2</td>\n",
       "      <td>semi-furnished</td>\n",
       "    </tr>\n",
       "    <tr>\n",
       "      <th>3</th>\n",
       "      <td>12215000</td>\n",
       "      <td>7500</td>\n",
       "      <td>4</td>\n",
       "      <td>2</td>\n",
       "      <td>2</td>\n",
       "      <td>3</td>\n",
       "      <td>furnished</td>\n",
       "    </tr>\n",
       "    <tr>\n",
       "      <th>4</th>\n",
       "      <td>11410000</td>\n",
       "      <td>7420</td>\n",
       "      <td>4</td>\n",
       "      <td>1</td>\n",
       "      <td>2</td>\n",
       "      <td>2</td>\n",
       "      <td>furnished</td>\n",
       "    </tr>\n",
       "    <tr>\n",
       "      <th>...</th>\n",
       "      <td>...</td>\n",
       "      <td>...</td>\n",
       "      <td>...</td>\n",
       "      <td>...</td>\n",
       "      <td>...</td>\n",
       "      <td>...</td>\n",
       "      <td>...</td>\n",
       "    </tr>\n",
       "    <tr>\n",
       "      <th>244</th>\n",
       "      <td>4550000</td>\n",
       "      <td>5320</td>\n",
       "      <td>3</td>\n",
       "      <td>1</td>\n",
       "      <td>2</td>\n",
       "      <td>0</td>\n",
       "      <td>semi-furnished</td>\n",
       "    </tr>\n",
       "    <tr>\n",
       "      <th>245</th>\n",
       "      <td>4550000</td>\n",
       "      <td>5360</td>\n",
       "      <td>3</td>\n",
       "      <td>1</td>\n",
       "      <td>2</td>\n",
       "      <td>2</td>\n",
       "      <td>unfurnished</td>\n",
       "    </tr>\n",
       "    <tr>\n",
       "      <th>246</th>\n",
       "      <td>4550000</td>\n",
       "      <td>3520</td>\n",
       "      <td>3</td>\n",
       "      <td>1</td>\n",
       "      <td>1</td>\n",
       "      <td>0</td>\n",
       "      <td>semi-furnished</td>\n",
       "    </tr>\n",
       "    <tr>\n",
       "      <th>247</th>\n",
       "      <td>4550000</td>\n",
       "      <td>8400</td>\n",
       "      <td>4</td>\n",
       "      <td>1</td>\n",
       "      <td>4</td>\n",
       "      <td>3</td>\n",
       "      <td>unfurnished</td>\n",
       "    </tr>\n",
       "    <tr>\n",
       "      <th>248</th>\n",
       "      <td>4543000</td>\n",
       "      <td>4100</td>\n",
       "      <td>2</td>\n",
       "      <td>2</td>\n",
       "      <td>1</td>\n",
       "      <td>0</td>\n",
       "      <td>semi-furnished</td>\n",
       "    </tr>\n",
       "  </tbody>\n",
       "</table>\n",
       "<p>249 rows × 7 columns</p>\n",
       "</div>"
      ],
      "text/plain": [
       "        price  area  bedrooms  bathrooms  stories  parking furnishingstatus\n",
       "0    13300000  7420         4          2        3        2        furnished\n",
       "1    12250000  8960         4          4        4        3        furnished\n",
       "2    12250000  9960         3          2        2        2   semi-furnished\n",
       "3    12215000  7500         4          2        2        3        furnished\n",
       "4    11410000  7420         4          1        2        2        furnished\n",
       "..        ...   ...       ...        ...      ...      ...              ...\n",
       "244   4550000  5320         3          1        2        0   semi-furnished\n",
       "245   4550000  5360         3          1        2        2      unfurnished\n",
       "246   4550000  3520         3          1        1        0   semi-furnished\n",
       "247   4550000  8400         4          1        4        3      unfurnished\n",
       "248   4543000  4100         2          2        1        0   semi-furnished\n",
       "\n",
       "[249 rows x 7 columns]"
      ]
     },
     "execution_count": 36,
     "metadata": {},
     "output_type": "execute_result"
    }
   ],
   "source": [
    "## Importing the necessary libraries\n",
    "import numpy as np \n",
    "import pandas as pd\n",
    "from sklearn.metrics import mean_squared_error \n",
    "from sklearn import preprocessing\n",
    "from sklearn.linear_model import LinearRegression\n",
    "from sklearn.model_selection import train_test_split\n",
    "##  Load the dataset to a dataframe.\n",
    "df = pd.read_csv(r'C:\\Users\\Batch1\\Documents\\Downloads\\TK\\Book1.csv')\n",
    "df"
   ]
  },
  {
   "cell_type": "markdown",
   "id": "f67536c5",
   "metadata": {},
   "source": [
    "##  Drop the furnishing status column and then we will be left out with 5 features (X1, X2, X3, X4, X5) to predict the house price (Y)"
   ]
  },
  {
   "cell_type": "code",
   "execution_count": 37,
   "id": "5cefdfac",
   "metadata": {},
   "outputs": [
    {
     "data": {
      "text/html": [
       "<div>\n",
       "<style scoped>\n",
       "    .dataframe tbody tr th:only-of-type {\n",
       "        vertical-align: middle;\n",
       "    }\n",
       "\n",
       "    .dataframe tbody tr th {\n",
       "        vertical-align: top;\n",
       "    }\n",
       "\n",
       "    .dataframe thead th {\n",
       "        text-align: right;\n",
       "    }\n",
       "</style>\n",
       "<table border=\"1\" class=\"dataframe\">\n",
       "  <thead>\n",
       "    <tr style=\"text-align: right;\">\n",
       "      <th></th>\n",
       "      <th>price</th>\n",
       "      <th>area</th>\n",
       "      <th>bedrooms</th>\n",
       "      <th>bathrooms</th>\n",
       "      <th>stories</th>\n",
       "      <th>parking</th>\n",
       "    </tr>\n",
       "  </thead>\n",
       "  <tbody>\n",
       "    <tr>\n",
       "      <th>0</th>\n",
       "      <td>13300000</td>\n",
       "      <td>7420</td>\n",
       "      <td>4</td>\n",
       "      <td>2</td>\n",
       "      <td>3</td>\n",
       "      <td>2</td>\n",
       "    </tr>\n",
       "    <tr>\n",
       "      <th>1</th>\n",
       "      <td>12250000</td>\n",
       "      <td>8960</td>\n",
       "      <td>4</td>\n",
       "      <td>4</td>\n",
       "      <td>4</td>\n",
       "      <td>3</td>\n",
       "    </tr>\n",
       "    <tr>\n",
       "      <th>2</th>\n",
       "      <td>12250000</td>\n",
       "      <td>9960</td>\n",
       "      <td>3</td>\n",
       "      <td>2</td>\n",
       "      <td>2</td>\n",
       "      <td>2</td>\n",
       "    </tr>\n",
       "    <tr>\n",
       "      <th>3</th>\n",
       "      <td>12215000</td>\n",
       "      <td>7500</td>\n",
       "      <td>4</td>\n",
       "      <td>2</td>\n",
       "      <td>2</td>\n",
       "      <td>3</td>\n",
       "    </tr>\n",
       "    <tr>\n",
       "      <th>4</th>\n",
       "      <td>11410000</td>\n",
       "      <td>7420</td>\n",
       "      <td>4</td>\n",
       "      <td>1</td>\n",
       "      <td>2</td>\n",
       "      <td>2</td>\n",
       "    </tr>\n",
       "    <tr>\n",
       "      <th>...</th>\n",
       "      <td>...</td>\n",
       "      <td>...</td>\n",
       "      <td>...</td>\n",
       "      <td>...</td>\n",
       "      <td>...</td>\n",
       "      <td>...</td>\n",
       "    </tr>\n",
       "    <tr>\n",
       "      <th>244</th>\n",
       "      <td>4550000</td>\n",
       "      <td>5320</td>\n",
       "      <td>3</td>\n",
       "      <td>1</td>\n",
       "      <td>2</td>\n",
       "      <td>0</td>\n",
       "    </tr>\n",
       "    <tr>\n",
       "      <th>245</th>\n",
       "      <td>4550000</td>\n",
       "      <td>5360</td>\n",
       "      <td>3</td>\n",
       "      <td>1</td>\n",
       "      <td>2</td>\n",
       "      <td>2</td>\n",
       "    </tr>\n",
       "    <tr>\n",
       "      <th>246</th>\n",
       "      <td>4550000</td>\n",
       "      <td>3520</td>\n",
       "      <td>3</td>\n",
       "      <td>1</td>\n",
       "      <td>1</td>\n",
       "      <td>0</td>\n",
       "    </tr>\n",
       "    <tr>\n",
       "      <th>247</th>\n",
       "      <td>4550000</td>\n",
       "      <td>8400</td>\n",
       "      <td>4</td>\n",
       "      <td>1</td>\n",
       "      <td>4</td>\n",
       "      <td>3</td>\n",
       "    </tr>\n",
       "    <tr>\n",
       "      <th>248</th>\n",
       "      <td>4543000</td>\n",
       "      <td>4100</td>\n",
       "      <td>2</td>\n",
       "      <td>2</td>\n",
       "      <td>1</td>\n",
       "      <td>0</td>\n",
       "    </tr>\n",
       "  </tbody>\n",
       "</table>\n",
       "<p>249 rows × 6 columns</p>\n",
       "</div>"
      ],
      "text/plain": [
       "        price  area  bedrooms  bathrooms  stories  parking\n",
       "0    13300000  7420         4          2        3        2\n",
       "1    12250000  8960         4          4        4        3\n",
       "2    12250000  9960         3          2        2        2\n",
       "3    12215000  7500         4          2        2        3\n",
       "4    11410000  7420         4          1        2        2\n",
       "..        ...   ...       ...        ...      ...      ...\n",
       "244   4550000  5320         3          1        2        0\n",
       "245   4550000  5360         3          1        2        2\n",
       "246   4550000  3520         3          1        1        0\n",
       "247   4550000  8400         4          1        4        3\n",
       "248   4543000  4100         2          2        1        0\n",
       "\n",
       "[249 rows x 6 columns]"
      ]
     },
     "execution_count": 37,
     "metadata": {},
     "output_type": "execute_result"
    }
   ],
   "source": [
    "df.drop('furnishingstatus',axis = 1,inplace = True)\n",
    "df"
   ]
  },
  {
   "cell_type": "markdown",
   "id": "221a034c",
   "metadata": {},
   "source": [
    "## Use MinMaxScaler() to scale the data to 0 to 1 range."
   ]
  },
  {
   "cell_type": "code",
   "execution_count": 38,
   "id": "ccd68b87",
   "metadata": {},
   "outputs": [
    {
     "name": "stdout",
     "output_type": "stream",
     "text": [
      "[[1.00000000e+00 3.56776557e-01 5.00000000e-01 3.33333333e-01\n",
      "  6.66666667e-01 6.66666667e-01]\n",
      " [8.80095923e-01 4.69597070e-01 5.00000000e-01 1.00000000e+00\n",
      "  1.00000000e+00 1.00000000e+00]\n",
      " [8.80095923e-01 5.42857143e-01 2.50000000e-01 3.33333333e-01\n",
      "  3.33333333e-01 6.66666667e-01]\n",
      " ...\n",
      " [7.99360512e-04 7.10622711e-02 2.50000000e-01 0.00000000e+00\n",
      "  0.00000000e+00 0.00000000e+00]\n",
      " [7.99360512e-04 4.28571429e-01 5.00000000e-01 0.00000000e+00\n",
      "  1.00000000e+00 1.00000000e+00]\n",
      " [0.00000000e+00 1.13553114e-01 0.00000000e+00 3.33333333e-01\n",
      "  0.00000000e+00 0.00000000e+00]]\n"
     ]
    }
   ],
   "source": [
    "MM = preprocessing.MinMaxScaler()\n",
    "x = MM.fit_transform(df)\n",
    "print(x)"
   ]
  },
  {
   "cell_type": "markdown",
   "id": "bb5b49ec",
   "metadata": {},
   "source": [
    "## Split the data into training and testing sets using appropriate functions. Use a 80:20 split.\n"
   ]
  },
  {
   "cell_type": "code",
   "execution_count": 39,
   "id": "605dc8ab",
   "metadata": {},
   "outputs": [],
   "source": [
    "X = x[:,1:]\n",
    "Y = x[:,0]"
   ]
  },
  {
   "cell_type": "code",
   "execution_count": 40,
   "id": "eec3b87c",
   "metadata": {},
   "outputs": [
    {
     "data": {
      "text/plain": [
       "(249, 5)"
      ]
     },
     "execution_count": 40,
     "metadata": {},
     "output_type": "execute_result"
    }
   ],
   "source": [
    "X.shape"
   ]
  },
  {
   "cell_type": "code",
   "execution_count": 41,
   "id": "21292d5b",
   "metadata": {},
   "outputs": [
    {
     "data": {
      "text/plain": [
       "(249,)"
      ]
     },
     "execution_count": 41,
     "metadata": {},
     "output_type": "execute_result"
    }
   ],
   "source": [
    "Y.shape"
   ]
  },
  {
   "cell_type": "code",
   "execution_count": 46,
   "id": "d4611f9d",
   "metadata": {},
   "outputs": [],
   "source": [
    "x_train,x_test,y_train,y_test = train_test_split(X,Y,test_size = 0.2, random_state = 0)"
   ]
  },
  {
   "cell_type": "markdown",
   "id": "842db870",
   "metadata": {},
   "source": [
    "## Also, use the inbuilt LinearRegression class and create an object of this class and fit the model using training data and check for the values of the parameters of your model. If you print the intercept and coefficients as you did in the previous lab you will get the model parameters θ0, θ1, ..., θ5"
   ]
  },
  {
   "cell_type": "code",
   "execution_count": 47,
   "id": "0d292828",
   "metadata": {},
   "outputs": [
    {
     "name": "stdout",
     "output_type": "stream",
     "text": [
      "optimized m: [0.32033532 0.09007501 0.3199135  0.13202285 0.14958391]\n",
      "optimized n: -0.06121183786718576\n"
     ]
    }
   ],
   "source": [
    "model = LinearRegression()\n",
    "model.fit(x_train,y_train)\n",
    "print(\"optimized m:\",model.coef_)\n",
    "print(\"optimized n:\",model.intercept_)"
   ]
  },
  {
   "cell_type": "code",
   "execution_count": 48,
   "id": "6365cb83",
   "metadata": {},
   "outputs": [
    {
     "name": "stdout",
     "output_type": "stream",
     "text": [
      "Mean Squared Error on test data: 0.020077937566470735\n"
     ]
    }
   ],
   "source": [
    "Y_pred = model.predict(x_test)\n",
    "\n",
    "# Evaluating the model performance using Mean Squared Error\n",
    "mse = mean_squared_error(y_test, Y_pred)\n",
    "print(f\"Mean Squared Error on test data: {mse}\")"
   ]
  },
  {
   "cell_type": "markdown",
   "id": "cfdae224",
   "metadata": {},
   "source": [
    "# Q2"
   ]
  },
  {
   "cell_type": "markdown",
   "id": "293516df",
   "metadata": {},
   "source": [
    "## Gradient descent algorithm for multiple regression"
   ]
  },
  {
   "cell_type": "code",
   "execution_count": 49,
   "id": "093d9fcd",
   "metadata": {},
   "outputs": [
    {
     "name": "stdout",
     "output_type": "stream",
     "text": [
      "Optimized m: [0.32033458 0.09007431 0.31991389 0.13202283 0.14958395]\n",
      "Optimized n (intercept): -0.06121148456591009\n",
      "Mean Squared Error on test data: 0.020077925354191114\n"
     ]
    }
   ],
   "source": [
    "def gd(X, Y, m, n, L):\n",
    "    Dm = np.zeros(X.shape[1])\n",
    "    Dn = 0  \n",
    "    m_len = len(X)\n",
    "    \n",
    "    for i in range(m_len):\n",
    "        prediction_error = np.dot(X[i], m) + n - Y[i]\n",
    "        Dm += (2 / m_len) * prediction_error * X[i]\n",
    "        Dn += (2 / m_len) * prediction_error\n",
    "    m = m - L * Dm\n",
    "    n = n - L * Dn    \n",
    "    return m, n\n",
    "m = np.zeros(x_train.shape[1])\n",
    "n = 0  \n",
    "L = 0.3\n",
    "epochs = 1000\n",
    "\n",
    "for epoch in range(epochs):\n",
    "    m, n = gd(x_train, y_train, m, n, L)\n",
    "\n",
    "print(f\"Optimized m: {m}\")\n",
    "print(f\"Optimized n (intercept): {n}\")\n",
    "\n",
    "# Making predictions using the learned parameters on the test data\n",
    "Y_pred = np.dot(x_test, m) + n\n",
    "\n",
    "# Evaluating the model performance using Mean Squared Error\n",
    "mse = mean_squared_error(y_test, Y_pred)\n",
    "print(f\"Mean Squared Error on test data: {mse}\")\n"
   ]
  },
  {
   "cell_type": "markdown",
   "id": "d2b8a8db",
   "metadata": {},
   "source": [
    "## Alternate approach"
   ]
  },
  {
   "cell_type": "code",
   "execution_count": 50,
   "id": "f9fbc93c",
   "metadata": {},
   "outputs": [
    {
     "name": "stdout",
     "output_type": "stream",
     "text": [
      "[[1.         0.05054945 0.5        0.         0.66666667 0.33333333]\n",
      " [1.         0.15018315 0.25       0.33333333 0.33333333 0.66666667]\n",
      " [1.         0.27472527 0.25       0.         0.         0.66666667]\n",
      " ...\n",
      " [1.         0.08424908 0.5        0.         0.33333333 0.        ]\n",
      " [1.         0.2967033  0.25       0.         1.         1.        ]\n",
      " [1.         0.42857143 0.25       0.         0.33333333 0.66666667]]\n"
     ]
    }
   ],
   "source": [
    "z = np.ones(len(x_train))\n",
    "new_X_train = np.concatenate((np.array(z)[:, np.newaxis], x_train), axis=1)\n",
    "print(new_X_train)\n"
   ]
  },
  {
   "cell_type": "code",
   "execution_count": 51,
   "id": "0d8ff647",
   "metadata": {},
   "outputs": [
    {
     "name": "stdout",
     "output_type": "stream",
     "text": [
      "[-0.06121184  0.32033532  0.09007501  0.3199135   0.13202285  0.14958391]\n"
     ]
    }
   ],
   "source": [
    "def gd(data,yt,parameters,lrate):\n",
    "    slopes = np.zeros(6)\n",
    "    for j in range(len(data)):\n",
    "        for k in range(6):\n",
    "            slopes[k]+= (1/len(data))*((data[j]*parameters).sum()-yt[j])*data[j][k]\n",
    "    parameters = parameters-lrate*slopes\n",
    "    return parameters\n",
    "parameters = np.zeros(6)\n",
    "lrate = 0.9\n",
    "iter_value = 1500\n",
    "for i in range(iter_value):\n",
    "    parameters = gd(new_X_train,y_train,parameters,lrate)\n",
    "print(parameters)"
   ]
  },
  {
   "cell_type": "markdown",
   "id": "e16d8876",
   "metadata": {},
   "source": [
    "# Q3\n",
    "### Implement the Linear regression problem what we attempted using the housepricedata set in the last lab using stochastic gradient descent and mini batch gradient descent and present the results and plots of your model. Also find the testing error in both the cases. ( Use the learning rate to be 0.5 and Hint: you can use random module and random.sample function can be used to generate say 30 (a mini batch) of indices and the derivative can be calculated for only those data points and summed. which can be used to update the model parameters values.\n",
    "\n"
   ]
  },
  {
   "cell_type": "code",
   "execution_count": 142,
   "id": "72d07165",
   "metadata": {},
   "outputs": [
    {
     "data": {
      "text/html": [
       "<div>\n",
       "<style scoped>\n",
       "    .dataframe tbody tr th:only-of-type {\n",
       "        vertical-align: middle;\n",
       "    }\n",
       "\n",
       "    .dataframe tbody tr th {\n",
       "        vertical-align: top;\n",
       "    }\n",
       "\n",
       "    .dataframe thead th {\n",
       "        text-align: right;\n",
       "    }\n",
       "</style>\n",
       "<table border=\"1\" class=\"dataframe\">\n",
       "  <thead>\n",
       "    <tr style=\"text-align: right;\">\n",
       "      <th></th>\n",
       "      <th>Height</th>\n",
       "      <th>Weight</th>\n",
       "    </tr>\n",
       "  </thead>\n",
       "  <tbody>\n",
       "    <tr>\n",
       "      <th>0</th>\n",
       "      <td>127.8296</td>\n",
       "      <td>67.63371</td>\n",
       "    </tr>\n",
       "    <tr>\n",
       "      <th>1</th>\n",
       "      <td>123.4114</td>\n",
       "      <td>65.95421</td>\n",
       "    </tr>\n",
       "    <tr>\n",
       "      <th>2</th>\n",
       "      <td>134.4043</td>\n",
       "      <td>66.14316</td>\n",
       "    </tr>\n",
       "    <tr>\n",
       "      <th>3</th>\n",
       "      <td>155.9981</td>\n",
       "      <td>73.45251</td>\n",
       "    </tr>\n",
       "    <tr>\n",
       "      <th>4</th>\n",
       "      <td>136.1354</td>\n",
       "      <td>69.30943</td>\n",
       "    </tr>\n",
       "    <tr>\n",
       "      <th>...</th>\n",
       "      <td>...</td>\n",
       "      <td>...</td>\n",
       "    </tr>\n",
       "    <tr>\n",
       "      <th>194</th>\n",
       "      <td>135.2500</td>\n",
       "      <td>68.41222</td>\n",
       "    </tr>\n",
       "    <tr>\n",
       "      <th>195</th>\n",
       "      <td>109.5143</td>\n",
       "      <td>66.49607</td>\n",
       "    </tr>\n",
       "    <tr>\n",
       "      <th>196</th>\n",
       "      <td>139.6043</td>\n",
       "      <td>67.84894</td>\n",
       "    </tr>\n",
       "    <tr>\n",
       "      <th>197</th>\n",
       "      <td>134.3672</td>\n",
       "      <td>67.27839</td>\n",
       "    </tr>\n",
       "    <tr>\n",
       "      <th>198</th>\n",
       "      <td>130.3869</td>\n",
       "      <td>68.48742</td>\n",
       "    </tr>\n",
       "  </tbody>\n",
       "</table>\n",
       "<p>199 rows × 2 columns</p>\n",
       "</div>"
      ],
      "text/plain": [
       "       Height    Weight\n",
       "0    127.8296  67.63371\n",
       "1    123.4114  65.95421\n",
       "2    134.4043  66.14316\n",
       "3    155.9981  73.45251\n",
       "4    136.1354  69.30943\n",
       "..        ...       ...\n",
       "194  135.2500  68.41222\n",
       "195  109.5143  66.49607\n",
       "196  139.6043  67.84894\n",
       "197  134.3672  67.27839\n",
       "198  130.3869  68.48742\n",
       "\n",
       "[199 rows x 2 columns]"
      ]
     },
     "execution_count": 142,
     "metadata": {},
     "output_type": "execute_result"
    }
   ],
   "source": [
    "## loading the dataset\n",
    "data = pd.read_csv(r'C:\\Users\\Batch1\\Documents\\Downloads\\TK\\Training_set_heights200.csv')\n",
    "data"
   ]
  },
  {
   "cell_type": "code",
   "execution_count": 143,
   "id": "e35ec59a",
   "metadata": {},
   "outputs": [],
   "source": [
    "#  Use MinMaxScaler() to scale the data to 0 to 1 range.\n",
    "MM = preprocessing.MinMaxScaler()\n",
    "x = MM.fit_transform(data)"
   ]
  },
  {
   "cell_type": "code",
   "execution_count": 144,
   "id": "dc269e83",
   "metadata": {},
   "outputs": [],
   "source": [
    "X = x[:,0]\n",
    "Y = x[:,1]"
   ]
  },
  {
   "cell_type": "code",
   "execution_count": 145,
   "id": "f90a094c",
   "metadata": {},
   "outputs": [],
   "source": [
    "# splitting the data into train and test\n",
    "\n",
    "x_train,x_test,y_train,y_test = train_test_split(X,Y,test_size = 0.2,random_state= 0)"
   ]
  },
  {
   "cell_type": "code",
   "execution_count": 147,
   "id": "59c1b441",
   "metadata": {},
   "outputs": [
    {
     "name": "stdout",
     "output_type": "stream",
     "text": [
      "0.3187097588547204 [0.42917335]\n",
      "Mean Squared Error on test data: 0.028299747771813315\n"
     ]
    }
   ],
   "source": [
    "# Creating linear regression model and fitting the data\n",
    "reg = LinearRegression()\n",
    "reg.fit(x_train.reshape(-1,1),y_train)\n",
    "m = reg.intercept_\n",
    "n = reg.coef_\n",
    "print(m,n)\n",
    "# Making predictions using the learned parameters on the test data\n",
    "Y_pred = reg.predict(x_test.reshape(-1,1))\n",
    "\n",
    "# Evaluating the model performance using Mean Squared Error\n",
    "mse = mean_squared_error(y_test, Y_pred)\n",
    "print(f\"Mean Squared Error on test data: {mse}\")"
   ]
  },
  {
   "cell_type": "code",
   "execution_count": 98,
   "id": "196662c0",
   "metadata": {},
   "outputs": [
    {
     "name": "stdout",
     "output_type": "stream",
     "text": [
      "0.42917326798919886 0.3187098016324925\n"
     ]
    }
   ],
   "source": [
    "def gd(xt,yt,mb,nb,L):\n",
    "    Dm=0\n",
    "    Dn=0\n",
    "    for i in range(len(xt)):\n",
    "        Dm=Dm+(2/len(xt))*((mb*xt[i]+nb-yt[i])*xt[i])\n",
    "        Dn=Dn+(2/len(xt))*(mb*xt[i]+nb-yt[i])\n",
    "    mb=mb-L*Dm\n",
    "    nb=nb-L*Dn\n",
    "    return mb,nb\n",
    "m=0\n",
    "n=0\n",
    "L=0.5\n",
    "epochs=900\n",
    "for i in range(epochs):\n",
    "    m,n=gd(x_train,y_train,m,n,L)\n",
    "print(m,n)"
   ]
  },
  {
   "cell_type": "markdown",
   "id": "fe82e250",
   "metadata": {},
   "source": [
    "## Stochastic gradient descent"
   ]
  },
  {
   "cell_type": "code",
   "execution_count": 157,
   "id": "71f5e217",
   "metadata": {},
   "outputs": [
    {
     "name": "stdout",
     "output_type": "stream",
     "text": [
      "Optimized m: 0.4688999790461973\n",
      "Optimized n (intercept): 0.6935169644013384\n",
      "Mean Squared Error on test data: 0.16480703058510277\n"
     ]
    }
   ],
   "source": [
    "def sgd(x,y,m,n,L):\n",
    "    ## randomly shuffling the data\n",
    "    i = np.random.randint(len(x))\n",
    "    dm = 2*(m*x[i]+n - y[i])*x[i]\n",
    "    dn = 2*(m*x[i]+n - y[i])\n",
    "    m -= L*dm\n",
    "    n -= L*dn\n",
    "    return m,n\n",
    "\n",
    "m = 0\n",
    "n = 0  \n",
    "L = 0.4\n",
    "epochs = 1200\n",
    "\n",
    "for epoch in range(epochs):\n",
    "    m, n = sgd(x_train, y_train, m, n, L)\n",
    "\n",
    "print(f\"Optimized m: {m}\")\n",
    "print(f\"Optimized n (intercept): {n}\")\n",
    "\n",
    "# Making predictions using the learned parameters on the test data\n",
    "Y_pred = x_test*m + n\n",
    "\n",
    "# Evaluating the model performance using Mean Squared Error\n",
    "mse = mean_squared_error(y_test, Y_pred)\n",
    "print(f\"Mean Squared Error on test data: {mse}\")"
   ]
  },
  {
   "cell_type": "code",
   "execution_count": null,
   "id": "77532656",
   "metadata": {},
   "outputs": [],
   "source": []
  }
 ],
 "metadata": {
  "kernelspec": {
   "display_name": "Python 3 (ipykernel)",
   "language": "python",
   "name": "python3"
  },
  "language_info": {
   "codemirror_mode": {
    "name": "ipython",
    "version": 3
   },
   "file_extension": ".py",
   "mimetype": "text/x-python",
   "name": "python",
   "nbconvert_exporter": "python",
   "pygments_lexer": "ipython3",
   "version": "3.11.5"
  }
 },
 "nbformat": 4,
 "nbformat_minor": 5
}
