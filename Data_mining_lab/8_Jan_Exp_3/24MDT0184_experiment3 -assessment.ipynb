{
 "cells": [
  {
   "cell_type": "markdown",
   "id": "6a404268",
   "metadata": {},
   "source": [
    "# Experiment 3\n",
    "## 8 January"
   ]
  },
  {
   "cell_type": "markdown",
   "id": "9245944d",
   "metadata": {},
   "source": [
    "## Multiple Linear Regression"
   ]
  },
  {
   "cell_type": "markdown",
   "id": "2d07352d",
   "metadata": {},
   "source": [
    "### Q1-Download the dataset ’Book1.csv’ from moodle. This dataset has information regarding the house price and many features depending on it. Open the CSV file and see the different features and the target variable Y (house price) also."
   ]
  },
  {
   "cell_type": "code",
   "execution_count": 86,
   "id": "ea8e1606",
   "metadata": {},
   "outputs": [
    {
     "data": {
      "text/html": [
       "<div>\n",
       "<style scoped>\n",
       "    .dataframe tbody tr th:only-of-type {\n",
       "        vertical-align: middle;\n",
       "    }\n",
       "\n",
       "    .dataframe tbody tr th {\n",
       "        vertical-align: top;\n",
       "    }\n",
       "\n",
       "    .dataframe thead th {\n",
       "        text-align: right;\n",
       "    }\n",
       "</style>\n",
       "<table border=\"1\" class=\"dataframe\">\n",
       "  <thead>\n",
       "    <tr style=\"text-align: right;\">\n",
       "      <th></th>\n",
       "      <th>price</th>\n",
       "      <th>area</th>\n",
       "      <th>bedrooms</th>\n",
       "      <th>bathrooms</th>\n",
       "      <th>stories</th>\n",
       "      <th>parking</th>\n",
       "      <th>furnishingstatus</th>\n",
       "    </tr>\n",
       "  </thead>\n",
       "  <tbody>\n",
       "    <tr>\n",
       "      <th>0</th>\n",
       "      <td>13300000</td>\n",
       "      <td>7420</td>\n",
       "      <td>4</td>\n",
       "      <td>2</td>\n",
       "      <td>3</td>\n",
       "      <td>2</td>\n",
       "      <td>furnished</td>\n",
       "    </tr>\n",
       "    <tr>\n",
       "      <th>1</th>\n",
       "      <td>12250000</td>\n",
       "      <td>8960</td>\n",
       "      <td>4</td>\n",
       "      <td>4</td>\n",
       "      <td>4</td>\n",
       "      <td>3</td>\n",
       "      <td>furnished</td>\n",
       "    </tr>\n",
       "    <tr>\n",
       "      <th>2</th>\n",
       "      <td>12250000</td>\n",
       "      <td>9960</td>\n",
       "      <td>3</td>\n",
       "      <td>2</td>\n",
       "      <td>2</td>\n",
       "      <td>2</td>\n",
       "      <td>semi-furnished</td>\n",
       "    </tr>\n",
       "    <tr>\n",
       "      <th>3</th>\n",
       "      <td>12215000</td>\n",
       "      <td>7500</td>\n",
       "      <td>4</td>\n",
       "      <td>2</td>\n",
       "      <td>2</td>\n",
       "      <td>3</td>\n",
       "      <td>furnished</td>\n",
       "    </tr>\n",
       "    <tr>\n",
       "      <th>4</th>\n",
       "      <td>11410000</td>\n",
       "      <td>7420</td>\n",
       "      <td>4</td>\n",
       "      <td>1</td>\n",
       "      <td>2</td>\n",
       "      <td>2</td>\n",
       "      <td>furnished</td>\n",
       "    </tr>\n",
       "    <tr>\n",
       "      <th>...</th>\n",
       "      <td>...</td>\n",
       "      <td>...</td>\n",
       "      <td>...</td>\n",
       "      <td>...</td>\n",
       "      <td>...</td>\n",
       "      <td>...</td>\n",
       "      <td>...</td>\n",
       "    </tr>\n",
       "    <tr>\n",
       "      <th>244</th>\n",
       "      <td>4550000</td>\n",
       "      <td>5320</td>\n",
       "      <td>3</td>\n",
       "      <td>1</td>\n",
       "      <td>2</td>\n",
       "      <td>0</td>\n",
       "      <td>semi-furnished</td>\n",
       "    </tr>\n",
       "    <tr>\n",
       "      <th>245</th>\n",
       "      <td>4550000</td>\n",
       "      <td>5360</td>\n",
       "      <td>3</td>\n",
       "      <td>1</td>\n",
       "      <td>2</td>\n",
       "      <td>2</td>\n",
       "      <td>unfurnished</td>\n",
       "    </tr>\n",
       "    <tr>\n",
       "      <th>246</th>\n",
       "      <td>4550000</td>\n",
       "      <td>3520</td>\n",
       "      <td>3</td>\n",
       "      <td>1</td>\n",
       "      <td>1</td>\n",
       "      <td>0</td>\n",
       "      <td>semi-furnished</td>\n",
       "    </tr>\n",
       "    <tr>\n",
       "      <th>247</th>\n",
       "      <td>4550000</td>\n",
       "      <td>8400</td>\n",
       "      <td>4</td>\n",
       "      <td>1</td>\n",
       "      <td>4</td>\n",
       "      <td>3</td>\n",
       "      <td>unfurnished</td>\n",
       "    </tr>\n",
       "    <tr>\n",
       "      <th>248</th>\n",
       "      <td>4543000</td>\n",
       "      <td>4100</td>\n",
       "      <td>2</td>\n",
       "      <td>2</td>\n",
       "      <td>1</td>\n",
       "      <td>0</td>\n",
       "      <td>semi-furnished</td>\n",
       "    </tr>\n",
       "  </tbody>\n",
       "</table>\n",
       "<p>249 rows × 7 columns</p>\n",
       "</div>"
      ],
      "text/plain": [
       "        price  area  bedrooms  bathrooms  stories  parking furnishingstatus\n",
       "0    13300000  7420         4          2        3        2        furnished\n",
       "1    12250000  8960         4          4        4        3        furnished\n",
       "2    12250000  9960         3          2        2        2   semi-furnished\n",
       "3    12215000  7500         4          2        2        3        furnished\n",
       "4    11410000  7420         4          1        2        2        furnished\n",
       "..        ...   ...       ...        ...      ...      ...              ...\n",
       "244   4550000  5320         3          1        2        0   semi-furnished\n",
       "245   4550000  5360         3          1        2        2      unfurnished\n",
       "246   4550000  3520         3          1        1        0   semi-furnished\n",
       "247   4550000  8400         4          1        4        3      unfurnished\n",
       "248   4543000  4100         2          2        1        0   semi-furnished\n",
       "\n",
       "[249 rows x 7 columns]"
      ]
     },
     "execution_count": 86,
     "metadata": {},
     "output_type": "execute_result"
    }
   ],
   "source": [
    "## Importing the necessary libraries\n",
    "import numpy as np \n",
    "import pandas as pd\n",
    "from sklearn.metrics import mean_squared_error \n",
    "from sklearn import preprocessing\n",
    "from sklearn.linear_model import LinearRegression\n",
    "from sklearn.model_selection import train_test_split\n",
    "import matplotlib.pyplot as plt\n",
    "##  Load the dataset to a dataframe.\n",
    "df = pd.read_csv(r'D:\\study material\\VIT_Data_Science\\Winter_Sem\\Data Mining and Machine Learning Lab\\Class_notes\\ML_exp2\\Book1.csv')\n",
    "df"
   ]
  },
  {
   "cell_type": "markdown",
   "id": "f67536c5",
   "metadata": {},
   "source": [
    "##  Drop the furnishing status column and then we will be left out with 5 features (X1, X2, X3, X4, X5) to predict the house price (Y)"
   ]
  },
  {
   "cell_type": "code",
   "execution_count": 87,
   "id": "5cefdfac",
   "metadata": {},
   "outputs": [
    {
     "data": {
      "text/html": [
       "<div>\n",
       "<style scoped>\n",
       "    .dataframe tbody tr th:only-of-type {\n",
       "        vertical-align: middle;\n",
       "    }\n",
       "\n",
       "    .dataframe tbody tr th {\n",
       "        vertical-align: top;\n",
       "    }\n",
       "\n",
       "    .dataframe thead th {\n",
       "        text-align: right;\n",
       "    }\n",
       "</style>\n",
       "<table border=\"1\" class=\"dataframe\">\n",
       "  <thead>\n",
       "    <tr style=\"text-align: right;\">\n",
       "      <th></th>\n",
       "      <th>price</th>\n",
       "      <th>area</th>\n",
       "      <th>bedrooms</th>\n",
       "      <th>bathrooms</th>\n",
       "      <th>stories</th>\n",
       "      <th>parking</th>\n",
       "    </tr>\n",
       "  </thead>\n",
       "  <tbody>\n",
       "    <tr>\n",
       "      <th>0</th>\n",
       "      <td>13300000</td>\n",
       "      <td>7420</td>\n",
       "      <td>4</td>\n",
       "      <td>2</td>\n",
       "      <td>3</td>\n",
       "      <td>2</td>\n",
       "    </tr>\n",
       "    <tr>\n",
       "      <th>1</th>\n",
       "      <td>12250000</td>\n",
       "      <td>8960</td>\n",
       "      <td>4</td>\n",
       "      <td>4</td>\n",
       "      <td>4</td>\n",
       "      <td>3</td>\n",
       "    </tr>\n",
       "    <tr>\n",
       "      <th>2</th>\n",
       "      <td>12250000</td>\n",
       "      <td>9960</td>\n",
       "      <td>3</td>\n",
       "      <td>2</td>\n",
       "      <td>2</td>\n",
       "      <td>2</td>\n",
       "    </tr>\n",
       "    <tr>\n",
       "      <th>3</th>\n",
       "      <td>12215000</td>\n",
       "      <td>7500</td>\n",
       "      <td>4</td>\n",
       "      <td>2</td>\n",
       "      <td>2</td>\n",
       "      <td>3</td>\n",
       "    </tr>\n",
       "    <tr>\n",
       "      <th>4</th>\n",
       "      <td>11410000</td>\n",
       "      <td>7420</td>\n",
       "      <td>4</td>\n",
       "      <td>1</td>\n",
       "      <td>2</td>\n",
       "      <td>2</td>\n",
       "    </tr>\n",
       "    <tr>\n",
       "      <th>...</th>\n",
       "      <td>...</td>\n",
       "      <td>...</td>\n",
       "      <td>...</td>\n",
       "      <td>...</td>\n",
       "      <td>...</td>\n",
       "      <td>...</td>\n",
       "    </tr>\n",
       "    <tr>\n",
       "      <th>244</th>\n",
       "      <td>4550000</td>\n",
       "      <td>5320</td>\n",
       "      <td>3</td>\n",
       "      <td>1</td>\n",
       "      <td>2</td>\n",
       "      <td>0</td>\n",
       "    </tr>\n",
       "    <tr>\n",
       "      <th>245</th>\n",
       "      <td>4550000</td>\n",
       "      <td>5360</td>\n",
       "      <td>3</td>\n",
       "      <td>1</td>\n",
       "      <td>2</td>\n",
       "      <td>2</td>\n",
       "    </tr>\n",
       "    <tr>\n",
       "      <th>246</th>\n",
       "      <td>4550000</td>\n",
       "      <td>3520</td>\n",
       "      <td>3</td>\n",
       "      <td>1</td>\n",
       "      <td>1</td>\n",
       "      <td>0</td>\n",
       "    </tr>\n",
       "    <tr>\n",
       "      <th>247</th>\n",
       "      <td>4550000</td>\n",
       "      <td>8400</td>\n",
       "      <td>4</td>\n",
       "      <td>1</td>\n",
       "      <td>4</td>\n",
       "      <td>3</td>\n",
       "    </tr>\n",
       "    <tr>\n",
       "      <th>248</th>\n",
       "      <td>4543000</td>\n",
       "      <td>4100</td>\n",
       "      <td>2</td>\n",
       "      <td>2</td>\n",
       "      <td>1</td>\n",
       "      <td>0</td>\n",
       "    </tr>\n",
       "  </tbody>\n",
       "</table>\n",
       "<p>249 rows × 6 columns</p>\n",
       "</div>"
      ],
      "text/plain": [
       "        price  area  bedrooms  bathrooms  stories  parking\n",
       "0    13300000  7420         4          2        3        2\n",
       "1    12250000  8960         4          4        4        3\n",
       "2    12250000  9960         3          2        2        2\n",
       "3    12215000  7500         4          2        2        3\n",
       "4    11410000  7420         4          1        2        2\n",
       "..        ...   ...       ...        ...      ...      ...\n",
       "244   4550000  5320         3          1        2        0\n",
       "245   4550000  5360         3          1        2        2\n",
       "246   4550000  3520         3          1        1        0\n",
       "247   4550000  8400         4          1        4        3\n",
       "248   4543000  4100         2          2        1        0\n",
       "\n",
       "[249 rows x 6 columns]"
      ]
     },
     "execution_count": 87,
     "metadata": {},
     "output_type": "execute_result"
    }
   ],
   "source": [
    "df.drop('furnishingstatus',axis = 1,inplace = True)\n",
    "df"
   ]
  },
  {
   "cell_type": "markdown",
   "id": "221a034c",
   "metadata": {},
   "source": [
    "## Use MinMaxScaler() to scale the data to 0 to 1 range."
   ]
  },
  {
   "cell_type": "code",
   "execution_count": 88,
   "id": "ccd68b87",
   "metadata": {},
   "outputs": [
    {
     "name": "stdout",
     "output_type": "stream",
     "text": [
      "[[1.00000000e+00 3.56776557e-01 5.00000000e-01 3.33333333e-01\n",
      "  6.66666667e-01 6.66666667e-01]\n",
      " [8.80095923e-01 4.69597070e-01 5.00000000e-01 1.00000000e+00\n",
      "  1.00000000e+00 1.00000000e+00]\n",
      " [8.80095923e-01 5.42857143e-01 2.50000000e-01 3.33333333e-01\n",
      "  3.33333333e-01 6.66666667e-01]\n",
      " ...\n",
      " [7.99360512e-04 7.10622711e-02 2.50000000e-01 0.00000000e+00\n",
      "  0.00000000e+00 0.00000000e+00]\n",
      " [7.99360512e-04 4.28571429e-01 5.00000000e-01 0.00000000e+00\n",
      "  1.00000000e+00 1.00000000e+00]\n",
      " [0.00000000e+00 1.13553114e-01 0.00000000e+00 3.33333333e-01\n",
      "  0.00000000e+00 0.00000000e+00]]\n"
     ]
    }
   ],
   "source": [
    "MM = preprocessing.MinMaxScaler()\n",
    "x = MM.fit_transform(df)\n",
    "print(x)"
   ]
  },
  {
   "cell_type": "markdown",
   "id": "bb5b49ec",
   "metadata": {},
   "source": [
    "## Split the data into training and testing sets using appropriate functions. Use a 80:20 split.\n"
   ]
  },
  {
   "cell_type": "code",
   "execution_count": 89,
   "id": "605dc8ab",
   "metadata": {},
   "outputs": [],
   "source": [
    "X = x[:,1:]\n",
    "Y = x[:,0]"
   ]
  },
  {
   "cell_type": "code",
   "execution_count": 90,
   "id": "eec3b87c",
   "metadata": {},
   "outputs": [
    {
     "data": {
      "text/plain": [
       "(249, 5)"
      ]
     },
     "execution_count": 90,
     "metadata": {},
     "output_type": "execute_result"
    }
   ],
   "source": [
    "X.shape"
   ]
  },
  {
   "cell_type": "code",
   "execution_count": 91,
   "id": "21292d5b",
   "metadata": {},
   "outputs": [
    {
     "data": {
      "text/plain": [
       "(249,)"
      ]
     },
     "execution_count": 91,
     "metadata": {},
     "output_type": "execute_result"
    }
   ],
   "source": [
    "Y.shape"
   ]
  },
  {
   "cell_type": "code",
   "execution_count": 92,
   "id": "d4611f9d",
   "metadata": {},
   "outputs": [],
   "source": [
    "x_train,x_test,y_train,y_test = train_test_split(X,Y,test_size = 0.2, random_state = 0)"
   ]
  },
  {
   "cell_type": "markdown",
   "id": "842db870",
   "metadata": {},
   "source": [
    "## Also, use the inbuilt LinearRegression class and create an object of this class and fit the model using training data and check for the values of the parameters of your model. If you print the intercept and coefficients as you did in the previous lab you will get the model parameters θ0, θ1, ..., θ5"
   ]
  },
  {
   "cell_type": "code",
   "execution_count": 93,
   "id": "0d292828",
   "metadata": {},
   "outputs": [
    {
     "name": "stdout",
     "output_type": "stream",
     "text": [
      "optimized m: [0.32033532 0.09007501 0.3199135  0.13202285 0.14958391]\n",
      "optimized n: -0.06121183786718576\n"
     ]
    }
   ],
   "source": [
    "model = LinearRegression()\n",
    "model.fit(x_train,y_train)\n",
    "print(\"optimized m:\",model.coef_)\n",
    "print(\"optimized n:\",model.intercept_)"
   ]
  },
  {
   "cell_type": "code",
   "execution_count": 94,
   "id": "6365cb83",
   "metadata": {},
   "outputs": [
    {
     "name": "stdout",
     "output_type": "stream",
     "text": [
      "Mean Squared Error on test data: 0.020077937566470735\n"
     ]
    }
   ],
   "source": [
    "Y_pred = model.predict(x_test)\n",
    "\n",
    "# Evaluating the model performance using Mean Squared Error\n",
    "mse = mean_squared_error(y_test, Y_pred)\n",
    "print(f\"Mean Squared Error on test data: {mse}\")"
   ]
  },
  {
   "cell_type": "markdown",
   "id": "cfdae224",
   "metadata": {},
   "source": [
    "# Q2"
   ]
  },
  {
   "cell_type": "markdown",
   "id": "293516df",
   "metadata": {},
   "source": [
    "## Gradient descent algorithm for multiple regression"
   ]
  },
  {
   "cell_type": "code",
   "execution_count": 95,
   "id": "093d9fcd",
   "metadata": {},
   "outputs": [
    {
     "name": "stdout",
     "output_type": "stream",
     "text": [
      "Optimized m: [0.32033458 0.09007431 0.31991389 0.13202283 0.14958395]\n",
      "Optimized n (intercept): -0.061211484565910086\n",
      "Mean Squared Error on test data: 0.020077925354191114\n"
     ]
    }
   ],
   "source": [
    "def gd(X, Y, m, n, L):\n",
    "    Dm = np.zeros(X.shape[1])\n",
    "    Dn = 0  \n",
    "    m_len = len(X)\n",
    "    \n",
    "    for i in range(m_len):\n",
    "        prediction_error = np.dot(X[i], m) + n - Y[i]\n",
    "        Dm += (2 / m_len) * prediction_error * X[i]\n",
    "        Dn += (2 / m_len) * prediction_error\n",
    "    m = m - L * Dm\n",
    "    n = n - L * Dn    \n",
    "    return m, n\n",
    "m = np.zeros(x_train.shape[1])\n",
    "n = 0  \n",
    "L = 0.3\n",
    "epochs = 1000\n",
    "\n",
    "for epoch in range(epochs):\n",
    "    m, n = gd(x_train, y_train, m, n, L)\n",
    "\n",
    "print(f\"Optimized m: {m}\")\n",
    "print(f\"Optimized n (intercept): {n}\")\n",
    "\n",
    "# Making predictions using the learned parameters on the test data\n",
    "Y_pred = np.dot(x_test, m) + n\n",
    "\n",
    "# Evaluating the model performance using Mean Squared Error\n",
    "mse = mean_squared_error(y_test, Y_pred)\n",
    "print(f\"Mean Squared Error on test data: {mse}\")\n"
   ]
  },
  {
   "cell_type": "markdown",
   "id": "7c2ca756",
   "metadata": {},
   "source": [
    "### Vectorized approach"
   ]
  },
  {
   "cell_type": "code",
   "execution_count": 96,
   "id": "662c92a4",
   "metadata": {},
   "outputs": [
    {
     "name": "stdout",
     "output_type": "stream",
     "text": [
      "Optimized m: [0.32033458 0.09007431 0.31991389 0.13202283 0.14958395]\n",
      "Optimized n (intercept): -0.06121148456591006\n",
      "Mean Squared Error on test data: 0.020077925354191114\n"
     ]
    }
   ],
   "source": [
    "def gd(X, Y, m, n, L):\n",
    "    m_len = len(X)\n",
    "    prediction_error = np.dot(X, m) + n - Y\n",
    "    Dm = (2 / m_len) * np.dot(X.T, prediction_error)  \n",
    "    Dn = (2 / m_len) * np.sum(prediction_error)\n",
    "    m = m - L * Dm\n",
    "    n = n - L * Dn    \n",
    "    return m, n\n",
    "\n",
    "m = np.zeros(x_train.shape[1])\n",
    "n = 0  \n",
    "L = 0.3\n",
    "epochs = 1000\n",
    "\n",
    "for epoch in range(epochs):\n",
    "    m, n = gd(x_train, y_train, m, n, L)\n",
    "\n",
    "print(f\"Optimized m: {m}\")\n",
    "print(f\"Optimized n (intercept): {n}\")\n",
    "\n",
    "# Making predictions using the learned parameters on the test data\n",
    "Y_pred = np.dot(x_test, m) + n\n",
    "\n",
    "# Evaluating the model performance using Mean Squared Error\n",
    "mse = mean_squared_error(y_test, Y_pred)\n",
    "print(f\"Mean Squared Error on test data: {mse}\")\n"
   ]
  },
  {
   "cell_type": "markdown",
   "id": "d2b8a8db",
   "metadata": {},
   "source": [
    "## Alternate approach"
   ]
  },
  {
   "cell_type": "code",
   "execution_count": 97,
   "id": "f9fbc93c",
   "metadata": {},
   "outputs": [
    {
     "name": "stdout",
     "output_type": "stream",
     "text": [
      "[[1.         0.05054945 0.5        0.         0.66666667 0.33333333]\n",
      " [1.         0.15018315 0.25       0.33333333 0.33333333 0.66666667]\n",
      " [1.         0.27472527 0.25       0.         0.         0.66666667]\n",
      " ...\n",
      " [1.         0.08424908 0.5        0.         0.33333333 0.        ]\n",
      " [1.         0.2967033  0.25       0.         1.         1.        ]\n",
      " [1.         0.42857143 0.25       0.         0.33333333 0.66666667]]\n"
     ]
    }
   ],
   "source": [
    "z = np.ones(len(x_train))\n",
    "new_X_train = np.concatenate((np.array(z)[:, np.newaxis], x_train), axis=1)\n",
    "print(new_X_train)\n"
   ]
  },
  {
   "cell_type": "code",
   "execution_count": 98,
   "id": "0d8ff647",
   "metadata": {},
   "outputs": [
    {
     "name": "stdout",
     "output_type": "stream",
     "text": [
      "[-0.06121184  0.32033532  0.09007501  0.3199135   0.13202285  0.14958391]\n"
     ]
    }
   ],
   "source": [
    "def gd(data,yt,parameters,lrate):\n",
    "    slopes = np.zeros(6)\n",
    "    for j in range(len(data)):\n",
    "        for k in range(6):\n",
    "            slopes[k]+= (1/len(data))*((data[j]*parameters).sum()-yt[j])*data[j][k]\n",
    "    parameters = parameters-lrate*slopes\n",
    "    return parameters\n",
    "parameters = np.zeros(6)\n",
    "lrate = 0.9\n",
    "iter_value = 1500\n",
    "for i in range(iter_value):\n",
    "    parameters = gd(new_X_train,y_train,parameters,lrate)\n",
    "print(parameters)"
   ]
  },
  {
   "cell_type": "markdown",
   "id": "e16d8876",
   "metadata": {},
   "source": [
    "# Q3\n",
    "### Implement the Linear regression problem what we attempted using the housepricedata set in the last lab using stochastic gradient descent and mini batch gradient descent and present the results and plots of your model. Also find the testing error in both the cases. ( Use the learning rate to be 0.5 and Hint: you can use random module and random.sample function can be used to generate say 30 (a mini batch) of indices and the derivative can be calculated for only those data points and summed. which can be used to update the model parameters values.\n",
    "\n"
   ]
  },
  {
   "cell_type": "code",
   "execution_count": 99,
   "id": "72d07165",
   "metadata": {},
   "outputs": [
    {
     "data": {
      "text/html": [
       "<div>\n",
       "<style scoped>\n",
       "    .dataframe tbody tr th:only-of-type {\n",
       "        vertical-align: middle;\n",
       "    }\n",
       "\n",
       "    .dataframe tbody tr th {\n",
       "        vertical-align: top;\n",
       "    }\n",
       "\n",
       "    .dataframe thead th {\n",
       "        text-align: right;\n",
       "    }\n",
       "</style>\n",
       "<table border=\"1\" class=\"dataframe\">\n",
       "  <thead>\n",
       "    <tr style=\"text-align: right;\">\n",
       "      <th></th>\n",
       "      <th>Height</th>\n",
       "      <th>Weight</th>\n",
       "    </tr>\n",
       "  </thead>\n",
       "  <tbody>\n",
       "    <tr>\n",
       "      <th>0</th>\n",
       "      <td>127.8296</td>\n",
       "      <td>67.63371</td>\n",
       "    </tr>\n",
       "    <tr>\n",
       "      <th>1</th>\n",
       "      <td>123.4114</td>\n",
       "      <td>65.95421</td>\n",
       "    </tr>\n",
       "    <tr>\n",
       "      <th>2</th>\n",
       "      <td>134.4043</td>\n",
       "      <td>66.14316</td>\n",
       "    </tr>\n",
       "    <tr>\n",
       "      <th>3</th>\n",
       "      <td>155.9981</td>\n",
       "      <td>73.45251</td>\n",
       "    </tr>\n",
       "    <tr>\n",
       "      <th>4</th>\n",
       "      <td>136.1354</td>\n",
       "      <td>69.30943</td>\n",
       "    </tr>\n",
       "    <tr>\n",
       "      <th>...</th>\n",
       "      <td>...</td>\n",
       "      <td>...</td>\n",
       "    </tr>\n",
       "    <tr>\n",
       "      <th>194</th>\n",
       "      <td>135.2500</td>\n",
       "      <td>68.41222</td>\n",
       "    </tr>\n",
       "    <tr>\n",
       "      <th>195</th>\n",
       "      <td>109.5143</td>\n",
       "      <td>66.49607</td>\n",
       "    </tr>\n",
       "    <tr>\n",
       "      <th>196</th>\n",
       "      <td>139.6043</td>\n",
       "      <td>67.84894</td>\n",
       "    </tr>\n",
       "    <tr>\n",
       "      <th>197</th>\n",
       "      <td>134.3672</td>\n",
       "      <td>67.27839</td>\n",
       "    </tr>\n",
       "    <tr>\n",
       "      <th>198</th>\n",
       "      <td>130.3869</td>\n",
       "      <td>68.48742</td>\n",
       "    </tr>\n",
       "  </tbody>\n",
       "</table>\n",
       "<p>199 rows × 2 columns</p>\n",
       "</div>"
      ],
      "text/plain": [
       "       Height    Weight\n",
       "0    127.8296  67.63371\n",
       "1    123.4114  65.95421\n",
       "2    134.4043  66.14316\n",
       "3    155.9981  73.45251\n",
       "4    136.1354  69.30943\n",
       "..        ...       ...\n",
       "194  135.2500  68.41222\n",
       "195  109.5143  66.49607\n",
       "196  139.6043  67.84894\n",
       "197  134.3672  67.27839\n",
       "198  130.3869  68.48742\n",
       "\n",
       "[199 rows x 2 columns]"
      ]
     },
     "execution_count": 99,
     "metadata": {},
     "output_type": "execute_result"
    }
   ],
   "source": [
    "## loading the dataset\n",
    "data = pd.read_csv(r'D:\\study material\\VIT_Data_Science\\Winter_Sem\\Data Mining and Machine Learning Lab\\Class_notes\\ML_exp2\\Training_set_heights200.csv')\n",
    "data"
   ]
  },
  {
   "cell_type": "code",
   "execution_count": 100,
   "id": "e35ec59a",
   "metadata": {},
   "outputs": [],
   "source": [
    "#  Use MinMaxScaler() to scale the data to 0 to 1 range.\n",
    "MM = preprocessing.MinMaxScaler()\n",
    "x = MM.fit_transform(data)"
   ]
  },
  {
   "cell_type": "code",
   "execution_count": 101,
   "id": "dc269e83",
   "metadata": {},
   "outputs": [],
   "source": [
    "X = x[:,0]\n",
    "Y = x[:,1]"
   ]
  },
  {
   "cell_type": "code",
   "execution_count": 102,
   "id": "f90a094c",
   "metadata": {},
   "outputs": [],
   "source": [
    "# splitting the data into train and test\n",
    "\n",
    "x_train,x_test,y_train,y_test = train_test_split(X,Y,test_size = 0.2,random_state= 0)"
   ]
  },
  {
   "cell_type": "code",
   "execution_count": 103,
   "id": "59c1b441",
   "metadata": {},
   "outputs": [
    {
     "name": "stdout",
     "output_type": "stream",
     "text": [
      "0.3187097588547204 [0.42917335]\n",
      "Mean Squared Error on test data: 0.02829974777181332\n"
     ]
    }
   ],
   "source": [
    "# Creating linear regression model and fitting the data\n",
    "reg = LinearRegression()\n",
    "reg.fit(x_train.reshape(-1,1),y_train)\n",
    "m = reg.intercept_\n",
    "n = reg.coef_\n",
    "print(m,n)\n",
    "# Making predictions using the learned parameters on the test data\n",
    "Y_pred = reg.predict(x_test.reshape(-1,1))\n",
    "\n",
    "# Evaluating the model performance using Mean Squared Error\n",
    "mse = mean_squared_error(y_test, Y_pred)\n",
    "print(f\"Mean Squared Error on test data: {mse}\")"
   ]
  },
  {
   "cell_type": "code",
   "execution_count": 104,
   "id": "196662c0",
   "metadata": {},
   "outputs": [
    {
     "name": "stdout",
     "output_type": "stream",
     "text": [
      "0.42917326798919886 0.3187098016324925\n"
     ]
    }
   ],
   "source": [
    "def gd(xt,yt,mb,nb,L):\n",
    "    Dm=0\n",
    "    Dn=0\n",
    "    for i in range(len(xt)):\n",
    "        Dm=Dm+(2/len(xt))*((mb*xt[i]+nb-yt[i])*xt[i])\n",
    "        Dn=Dn+(2/len(xt))*(mb*xt[i]+nb-yt[i])\n",
    "    mb=mb-L*Dm\n",
    "    nb=nb-L*Dn\n",
    "    return mb,nb\n",
    "m=0\n",
    "n=0\n",
    "L=0.5\n",
    "epochs=900\n",
    "for i in range(epochs):\n",
    "    m,n=gd(x_train,y_train,m,n,L)\n",
    "print(m,n)"
   ]
  },
  {
   "cell_type": "markdown",
   "id": "fe82e250",
   "metadata": {},
   "source": [
    "## Stochastic gradient descent"
   ]
  },
  {
   "cell_type": "code",
   "execution_count": 105,
   "id": "71f5e217",
   "metadata": {},
   "outputs": [
    {
     "name": "stdout",
     "output_type": "stream",
     "text": [
      "Optimized m: 0.443281943852369\n",
      "Optimized n (intercept): 0.34806297724312585\n",
      "Mean Squared Error on test data: 0.027451015932419075\n"
     ]
    }
   ],
   "source": [
    "def sgd(x,y,m,n,L):\n",
    "    ## randomly shuffling the data\n",
    "    i = np.random.randint(len(x))\n",
    "    dm = 2*(m*x[i]+n - y[i])*x[i]\n",
    "    dn = 2*(m*x[i]+n - y[i])\n",
    "    m -= L*dm\n",
    "    n -= L*dn\n",
    "    return m,n\n",
    "\n",
    "m_sgd = 0\n",
    "n_sgd = 0  \n",
    "L = 0.3\n",
    "epochs = 1500\n",
    "\n",
    "for epoch in range(epochs):\n",
    "    m_sgd, n_sgd = sgd(x_train, y_train, m, n, L)\n",
    "\n",
    "print(f\"Optimized m: {m_sgd}\")\n",
    "print(f\"Optimized n (intercept): {n_sgd}\")\n",
    "\n",
    "# Making predictions using the learned parameters on the test data\n",
    "Y_pred = np.dot(x_test,m_sgd) + n_sgd\n",
    "\n",
    "# Evaluating the model performance using Mean Squared Error\n",
    "mse = mean_squared_error(y_test, Y_pred)\n",
    "print(f\"Mean Squared Error on test data: {mse}\")"
   ]
  },
  {
   "cell_type": "markdown",
   "id": "77532656",
   "metadata": {},
   "source": [
    "## Minibatch gradient descent"
   ]
  },
  {
   "cell_type": "code",
   "execution_count": 106,
   "id": "9ff40614",
   "metadata": {},
   "outputs": [
    {
     "name": "stdout",
     "output_type": "stream",
     "text": [
      "Optimized m: 0.41640933750720044\n",
      "Optimized n (intercept): 0.3005646943825705\n",
      "Mean Squared Error on test data: 0.03055277822325292\n"
     ]
    }
   ],
   "source": [
    "def mbgd(x,y,m,n,l,batchsize):\n",
    "    indices = np.random.permutation(len(x))\n",
    "    x,y = x[indices],y[indices]\n",
    "    for i in range(0,len(x),batchsize):\n",
    "        x_batch = x[i:i+batchsize]\n",
    "        y_batch = y[i:i+batchsize]\n",
    "        grad_m = np.sum(2*(m*x_batch+n-y_batch)*x_batch/len(x_batch))\n",
    "        grad_n = np.sum(2*(m*x_batch+n-y_batch)/len(x_batch))\n",
    "        m-= l*grad_m\n",
    "        n-=l*grad_n\n",
    "    return m,n\n",
    "\n",
    "m_mbgd = 0\n",
    "n_mbgd = 0  \n",
    "L = 0.5\n",
    "batchsize = 30\n",
    "epochs = 1500\n",
    "\n",
    "for epoch in range(epochs):\n",
    "    m_mbgd, n_mbgd = mbgd(x_train, y_train, m, n, L,batchsize)\n",
    "\n",
    "print(f\"Optimized m: {m_mbgd}\")\n",
    "print(f\"Optimized n (intercept): {n_mbgd}\")\n",
    "\n",
    "# Making predictions using the learned parameters on the test data\n",
    "Y_pred = np.dot(x_test,m_mbgd) + n_mbgd\n",
    "\n",
    "# Evaluating the model performance using Mean Squared Error\n",
    "mse = mean_squared_error(y_test, Y_pred)\n",
    "print(f\"Mean Squared Error on test data: {mse}\")\n"
   ]
  },
  {
   "cell_type": "markdown",
   "id": "deac8a52",
   "metadata": {},
   "source": [
    "## Plotting the regression lines for both models"
   ]
  },
  {
   "cell_type": "code",
   "execution_count": 109,
   "id": "9186fc52",
   "metadata": {},
   "outputs": [
    {
     "data": {
      "image/png": "[encoded data removed]",
      "text/plain": [
       "<Figure size 1000x600 with 1 Axes>"
      ]
     },
     "metadata": {},
     "output_type": "display_data"
    }
   ],
   "source": [
    "plt.figure(figsize=(10, 6))\n",
    "plt.scatter(x_train, y_train, color='black', label='Training Data',alpha=0.7)\n",
    "plt.plot(x_train, m_sgd * x_train + n_sgd, color='green', label='SGD Regression Line')\n",
    "plt.plot(x_train, m_mbgd * x_train + n_mbgd, color='orange', label='MBGD Regression Line')\n",
    "plt.plot(x_train, m * x_train + n, color='red', label='Sklearn Linear regression Line')\n",
    "plt.title(\"Comparison of Stochastic gradient descent, Mini-Batch gradient descent and Sklearn Linear regression\")\n",
    "plt.xlabel(\"x_train (Feature)\")\n",
    "plt.ylabel(\"y_train (Target)\")\n",
    "plt.legend()\n",
    "plt.grid(True)\n",
    "plt.show()\n"
   ]
  },
  {
   "cell_type": "markdown",
   "id": "8d326f1d",
   "metadata": {},
   "source": [
    "# Polynomial Regression"
   ]
  },
  {
   "cell_type": "markdown",
   "id": "c401c3cf",
   "metadata": {},
   "source": [
    "#### Q4. When we look at the scatter plot of the data in trainingheights200.csv. It can be  identified that there is a quadratic nature for the data. So it would be good we can go for such a model.Let us try to now implement polynomial regression in the case of same dataset training heights200.csv. Let us say we want to fit a polynomial of degree 3 to this data we can do  so. That is the model we are trying to fit is hθ(x) = θ0 +θ1x+θ2x2 +θ3x3  So here we need to model the variable Y in terms of the features X,X2,X3. We can take Y has weight and X as height from the data set"
   ]
  },
  {
   "cell_type": "code",
   "execution_count": 110,
   "id": "2955fc3f",
   "metadata": {},
   "outputs": [],
   "source": [
    "# importing the libraries\n",
    "import pandas as pd \n",
    "import numpy as np \n",
    "import matplotlib.pyplot as plt \n",
    "from sklearn.preprocessing import PolynomialFeatures, MinMaxScaler\n",
    "from sklearn.linear_model import LinearRegression\n",
    "from sklearn.model_selection import train_test_split\n",
    "from sklearn.metrics import mean_squared_error"
   ]
  },
  {
   "cell_type": "code",
   "execution_count": 111,
   "id": "8e506cd3",
   "metadata": {},
   "outputs": [],
   "source": [
    "## reading the dataset\n",
    "training_dataset = pd.read_csv(r'D:\\study material\\VIT_Data_Science\\Winter_Sem\\Data Mining and Machine Learning Lab\\Class_notes\\ML_exp2\\Training_set_heights200.csv')"
   ]
  },
  {
   "cell_type": "code",
   "execution_count": 112,
   "id": "a9a29e95",
   "metadata": {},
   "outputs": [
    {
     "data": {
      "text/html": [
       "<div>\n",
       "<style scoped>\n",
       "    .dataframe tbody tr th:only-of-type {\n",
       "        vertical-align: middle;\n",
       "    }\n",
       "\n",
       "    .dataframe tbody tr th {\n",
       "        vertical-align: top;\n",
       "    }\n",
       "\n",
       "    .dataframe thead th {\n",
       "        text-align: right;\n",
       "    }\n",
       "</style>\n",
       "<table border=\"1\" class=\"dataframe\">\n",
       "  <thead>\n",
       "    <tr style=\"text-align: right;\">\n",
       "      <th></th>\n",
       "      <th>Height</th>\n",
       "      <th>Weight</th>\n",
       "    </tr>\n",
       "  </thead>\n",
       "  <tbody>\n",
       "    <tr>\n",
       "      <th>0</th>\n",
       "      <td>127.8296</td>\n",
       "      <td>67.63371</td>\n",
       "    </tr>\n",
       "    <tr>\n",
       "      <th>1</th>\n",
       "      <td>123.4114</td>\n",
       "      <td>65.95421</td>\n",
       "    </tr>\n",
       "    <tr>\n",
       "      <th>2</th>\n",
       "      <td>134.4043</td>\n",
       "      <td>66.14316</td>\n",
       "    </tr>\n",
       "    <tr>\n",
       "      <th>3</th>\n",
       "      <td>155.9981</td>\n",
       "      <td>73.45251</td>\n",
       "    </tr>\n",
       "    <tr>\n",
       "      <th>4</th>\n",
       "      <td>136.1354</td>\n",
       "      <td>69.30943</td>\n",
       "    </tr>\n",
       "    <tr>\n",
       "      <th>...</th>\n",
       "      <td>...</td>\n",
       "      <td>...</td>\n",
       "    </tr>\n",
       "    <tr>\n",
       "      <th>194</th>\n",
       "      <td>135.2500</td>\n",
       "      <td>68.41222</td>\n",
       "    </tr>\n",
       "    <tr>\n",
       "      <th>195</th>\n",
       "      <td>109.5143</td>\n",
       "      <td>66.49607</td>\n",
       "    </tr>\n",
       "    <tr>\n",
       "      <th>196</th>\n",
       "      <td>139.6043</td>\n",
       "      <td>67.84894</td>\n",
       "    </tr>\n",
       "    <tr>\n",
       "      <th>197</th>\n",
       "      <td>134.3672</td>\n",
       "      <td>67.27839</td>\n",
       "    </tr>\n",
       "    <tr>\n",
       "      <th>198</th>\n",
       "      <td>130.3869</td>\n",
       "      <td>68.48742</td>\n",
       "    </tr>\n",
       "  </tbody>\n",
       "</table>\n",
       "<p>199 rows × 2 columns</p>\n",
       "</div>"
      ],
      "text/plain": [
       "       Height    Weight\n",
       "0    127.8296  67.63371\n",
       "1    123.4114  65.95421\n",
       "2    134.4043  66.14316\n",
       "3    155.9981  73.45251\n",
       "4    136.1354  69.30943\n",
       "..        ...       ...\n",
       "194  135.2500  68.41222\n",
       "195  109.5143  66.49607\n",
       "196  139.6043  67.84894\n",
       "197  134.3672  67.27839\n",
       "198  130.3869  68.48742\n",
       "\n",
       "[199 rows x 2 columns]"
      ]
     },
     "execution_count": 112,
     "metadata": {},
     "output_type": "execute_result"
    }
   ],
   "source": [
    "training_dataset"
   ]
  },
  {
   "cell_type": "code",
   "execution_count": 113,
   "id": "2f23ed1e",
   "metadata": {},
   "outputs": [],
   "source": [
    "#  Use MinMaxScaler() to scale the data to 0 to 1 range.\n",
    "MM = preprocessing.MinMaxScaler()\n",
    "x = MM.fit_transform(training_dataset)"
   ]
  },
  {
   "cell_type": "code",
   "execution_count": 114,
   "id": "ef635d13",
   "metadata": {},
   "outputs": [],
   "source": [
    "x_train,x_test,y_train,y_test = train_test_split(x[:,0].reshape(-1,1),x[:,1],test_size=0.3,random_state=0)"
   ]
  },
  {
   "cell_type": "code",
   "execution_count": 115,
   "id": "bc15111a",
   "metadata": {},
   "outputs": [
    {
     "name": "stdout",
     "output_type": "stream",
     "text": [
      "Training MSE: 0.015123017896174455\n",
      "Testing MSE: 0.031124085897679937\n",
      "polynomial coefficients: [ 0.         -0.27208909  0.55389291  0.08276656]\n",
      "Intercept: 0.4963572481217523\n"
     ]
    }
   ],
   "source": [
    "poly = PolynomialFeatures(degree=3,include_bias=True)\n",
    "x_train_poly = poly.fit_transform(x_train)\n",
    "x_test_poly = poly.transform(x_test)\n",
    "\n",
    "model = LinearRegression()\n",
    "model.fit(x_train_poly,y_train)\n",
    "\n",
    "y_train_pred = model.predict(x_train_poly)\n",
    "y_test_pred = model.predict(x_test_poly)\n",
    "\n",
    "train_mse = mean_squared_error(y_train,y_train_pred)\n",
    "test_mse = mean_squared_error(y_test,y_test_pred)\n",
    "\n",
    "print(\"Training MSE:\",train_mse)\n",
    "print(\"Testing MSE:\",test_mse)\n",
    "\n",
    "print(\"polynomial coefficients:\",model.coef_)\n",
    "print(\"Intercept:\",model.intercept_)\n"
   ]
  },
  {
   "cell_type": "markdown",
   "id": "049f6bd6",
   "metadata": {},
   "source": [
    "## Plotting\n"
   ]
  },
  {
   "cell_type": "code",
   "execution_count": 116,
   "id": "aa1822b3",
   "metadata": {},
   "outputs": [
    {
     "data": {
      "image/png": "[encoded data removed]",
      "text/plain": [
       "<Figure size 640x480 with 1 Axes>"
      ]
     },
     "metadata": {},
     "output_type": "display_data"
    }
   ],
   "source": [
    "plt.scatter(x_train,y_train,label = \"Training Data\",color = 'blue')\n",
    "plt.scatter(x_test,y_test,label = \"Testing Data\",color = 'green',alpha=0.6)\n",
    "plt.plot(x_train,y_train_pred,linestyle='--',color = 'red',label = \"Fitted polynomial\")\n",
    "plt.xlabel(\"X_train\")\n",
    "plt.ylabel(\"Y_train\")\n",
    "plt.legend()\n",
    "plt.title(\"Polynomial Regression\")\n",
    "plt.show()"
   ]
  }
 ],
 "metadata": {
  "kernelspec": {
   "display_name": "base",
   "language": "python",
   "name": "python3"
  },
  "language_info": {
   "codemirror_mode": {
    "name": "ipython",
    "version": 3
   },
   "file_extension": ".py",
   "mimetype": "text/x-python",
   "name": "python",
   "nbconvert_exporter": "python",
   "pygments_lexer": "ipython3",
   "version": "3.12.4"
  }
 },
 "nbformat": 4,
 "nbformat_minor": 5
}
