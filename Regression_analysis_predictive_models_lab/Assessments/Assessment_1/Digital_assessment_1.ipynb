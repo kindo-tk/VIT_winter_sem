{
 "cells": [
  {
   "cell_type": "markdown",
   "metadata": {},
   "source": [
    "# Digital Assignment 1\n",
    "## Slot  : L29+L30\n",
    "## Course Name & code: Regression Analysis and Predictive Models Lab & PMDS504P                                  "
   ]
  },
  {
   "cell_type": "markdown",
   "metadata": {},
   "source": [
    "## 1. Greatest of Three Numbers\n",
    " Write a Python program to find the greatest of three numbers entered by the user. Example:\n",
    "\n",
    " Input: last three digits of your register number, say 2, 8, 1.\n",
    "\n",
    " Output: 8 is the greatest number"
   ]
  },
  {
   "cell_type": "code",
   "execution_count": 3,
   "metadata": {},
   "outputs": [
    {
     "name": "stdin",
     "output_type": "stream",
     "text": [
      "Enter 3 numbers separated by commas (','):  1,8,4\n"
     ]
    },
    {
     "name": "stdout",
     "output_type": "stream",
     "text": [
      "8 is the greatest\n"
     ]
    }
   ],
   "source": [
    "a, b, c = map(int, input(\"Enter 3 numbers separated by commas (','): \").split(','))\n",
    "if a>=b and a>=c:\n",
    "    print(a,\"is the greatest\")\n",
    "elif b>=a and b>=c:\n",
    "    print(b,\"is the greatest\")\n",
    "else:\n",
    "    print(c,\"is the greatest\")"
   ]
  },
  {
   "cell_type": "markdown",
   "metadata": {},
   "source": [
    "## 2. Multiplication Table\n",
    " Write a Python program to print the multiplication table of a number entered by the user"
   ]
  },
  {
   "cell_type": "code",
   "execution_count": 5,
   "metadata": {},
   "outputs": [
    {
     "name": "stdin",
     "output_type": "stream",
     "text": [
      "Enter a number: 7\n"
     ]
    },
    {
     "name": "stdout",
     "output_type": "stream",
     "text": [
      "Multiplication table of 7:\n",
      "7 * 1 = 7\n",
      "7 * 2 = 14\n",
      "7 * 3 = 21\n",
      "7 * 4 = 28\n",
      "7 * 5 = 35\n",
      "7 * 6 = 42\n",
      "7 * 7 = 49\n",
      "7 * 8 = 56\n",
      "7 * 9 = 63\n",
      "7 * 10 = 70\n"
     ]
    }
   ],
   "source": [
    "num = int(input(\"Enter a number:\"))\n",
    "print(f\"Multiplication table of {num}:\")\n",
    "for i in range(1,11):\n",
    "    print(f\"{num} * {i} = {num*i}\")\n"
   ]
  },
  {
   "cell_type": "markdown",
   "metadata": {},
   "source": [
    "## 3. Print Numbers from 1 to 10 Using a For Loop\n",
    " Write a Python program to print numbers from 1 to 10 using a for loop."
   ]
  },
  {
   "cell_type": "code",
   "execution_count": 7,
   "metadata": {},
   "outputs": [
    {
     "name": "stdout",
     "output_type": "stream",
     "text": [
      "Numbers from 1 to 10 using for loop:\n",
      "1\n",
      "2\n",
      "3\n",
      "4\n",
      "5\n",
      "6\n",
      "7\n",
      "8\n",
      "9\n",
      "10\n"
     ]
    }
   ],
   "source": [
    "print(\"Numbers from 1 to 10 using for loop:\")\n",
    "for i in range(1,11):\n",
    "    print(i)"
   ]
  },
  {
   "cell_type": "markdown",
   "metadata": {},
   "source": [
    "## 4-Write a Python program using a single-line if-else statement to determine if a number is positive or negative.\n",
    " Example:\n",
    " Input:-5\n",
    " Output: Number is negative"
   ]
  },
  {
   "cell_type": "code",
   "execution_count": 9,
   "metadata": {},
   "outputs": [
    {
     "name": "stdin",
     "output_type": "stream",
     "text": [
      "Enter a number: -5\n"
     ]
    },
    {
     "name": "stdout",
     "output_type": "stream",
     "text": [
      "-5 is negative\n"
     ]
    }
   ],
   "source": [
    "num = int(input(\"Enter a number:\"))\n",
    "print(f\"{num} is positive\" if num>=0 else f\"{num} is negative\")"
   ]
  },
  {
   "cell_type": "markdown",
   "metadata": {},
   "source": [
    "## 5. Mark Range (Pass or Fail)\n",
    " Write a Python program that takes a students marks as input and determines if the student has passed or failed.\n",
    " Assume passing marks are 40."
   ]
  },
  {
   "cell_type": "code",
   "execution_count": 13,
   "metadata": {},
   "outputs": [
    {
     "name": "stdin",
     "output_type": "stream",
     "text": [
      "Enter your marks: 33\n"
     ]
    },
    {
     "name": "stdout",
     "output_type": "stream",
     "text": [
      "Sorry! you have failed\n"
     ]
    }
   ],
   "source": [
    "marks = int(input(\"Enter your marks:\"))\n",
    "if marks >= 40:\n",
    "    print(\"Congratulations! you have passed\")\n",
    "else:\n",
    "    print(\"Sorry! you have failed\")"
   ]
  },
  {
   "cell_type": "markdown",
   "metadata": {},
   "source": [
    "## 6. Checking Vowels\n",
    " Write a Python program to check if a given character is a vowel or not"
   ]
  },
  {
   "cell_type": "code",
   "execution_count": 15,
   "metadata": {},
   "outputs": [
    {
     "name": "stdin",
     "output_type": "stream",
     "text": [
      "Enter a character: t\n"
     ]
    },
    {
     "name": "stdout",
     "output_type": "stream",
     "text": [
      "'t' is not a vowel\n"
     ]
    }
   ],
   "source": [
    "ch = input(\"Enter a character:\")\n",
    "vowels = \"aeiouAEIOU\"\n",
    "if ch in vowels:\n",
    "    print(f\"'{ch}' is a vowel\")\n",
    "else:\n",
    "    print(f\"'{ch}' is not a vowel\")"
   ]
  },
  {
   "cell_type": "markdown",
   "metadata": {},
   "source": [
    "## 7. Sum and Average Using While Loop\n",
    " Write a Python program to calculate the sum and average of n numbers entered by the user using a while loop"
   ]
  },
  {
   "cell_type": "code",
   "execution_count": 19,
   "metadata": {},
   "outputs": [
    {
     "name": "stdin",
     "output_type": "stream",
     "text": [
      "Enter the value of n: 5\n",
      "Enter number 1: 12\n",
      "Enter number 2: 45\n",
      "Enter number 3: 52\n",
      "Enter number 4: 63\n",
      "Enter number 5: 89\n"
     ]
    },
    {
     "name": "stdout",
     "output_type": "stream",
     "text": [
      "\n",
      "sum of the n digits is: 261\n",
      "Average of the n digits is: 52.2\n"
     ]
    }
   ],
   "source": [
    "n = int(input(\"Enter the value of n:\"))\n",
    "i = 1\n",
    "sum_dig = 0\n",
    "while i<=n:\n",
    "    num = int(input(f\"Enter number {i}:\"))\n",
    "    sum_dig += num\n",
    "    i+=1\n",
    "print(\"\\nsum of the n digits is:\",sum_dig)\n",
    "print(\"Average of the n digits is:\",sum_dig/n)\n",
    "    "
   ]
  },
  {
   "cell_type": "markdown",
   "metadata": {},
   "source": [
    "## 8. Program to Print Fibonacci Sequence up to a Given Limit\n",
    " Write a Python program to generate the Fibonacci sequence up to a user-specified limit."
   ]
  },
  {
   "cell_type": "code",
   "execution_count": 21,
   "metadata": {},
   "outputs": [
    {
     "name": "stdin",
     "output_type": "stream",
     "text": [
      "Enter the number of terms (n): 10\n"
     ]
    },
    {
     "name": "stdout",
     "output_type": "stream",
     "text": [
      "Fibonacci series till 10 terms is:\n",
      " [0, 1, 1, 2, 3, 5, 8, 13, 21, 34]\n"
     ]
    }
   ],
   "source": [
    "n = int(input(\"Enter the number of terms (n):\"))\n",
    "fib = [0,1]\n",
    "if n <= 0:\n",
    "    print(\"Please enter a positive integer.\")\n",
    "elif n == 1:\n",
    "    print(f\"Fibonacci series till {n} term is:{fib[0]}\")\n",
    "else:\n",
    "    for i in range(2,n):\n",
    "        fib_next = fib[i-2]+fib[i-1]\n",
    "        fib.append(fib_next)\n",
    "    print(f\"Fibonacci series till {n} terms is:\\n\",fib)"
   ]
  }
 ],
 "metadata": {
  "kernelspec": {
   "display_name": "Python 3 (ipykernel)",
   "language": "python",
   "name": "python3"
  },
  "language_info": {
   "codemirror_mode": {
    "name": "ipython",
    "version": 3
   },
   "file_extension": ".py",
   "mimetype": "text/x-python",
   "name": "python",
   "nbconvert_exporter": "python",
   "pygments_lexer": "ipython3",
   "version": "3.12.4"
  }
 },
 "nbformat": 4,
 "nbformat_minor": 4
}
