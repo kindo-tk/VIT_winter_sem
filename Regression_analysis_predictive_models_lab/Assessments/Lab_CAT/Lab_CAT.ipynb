{
 "cells": [
  {
   "cell_type": "markdown",
   "id": "d1ea917d",
   "metadata": {},
   "source": [
    "| **Name**         | Tufan Kundu               |\n",
    "|------------------|---------------------------|\n",
    "| **Reg No.**      | 24MDT0184                 |\n",
    "| **Course Name**  | Regression Analysis and Predictive Models Lab    |\n",
    "| **Course Code**  | PMDS504P                  |\n",
    "| **Set**   | B  |\n",
    "| **Assessment**   | Digital Assessment 4  |\n"
   ]
  },
  {
   "cell_type": "markdown",
   "id": "d5a4d259",
   "metadata": {},
   "source": [
    "# QUESTION 1: Data Understanding & Visualization"
   ]
  },
  {
   "cell_type": "markdown",
   "id": "7663bb94",
   "metadata": {},
   "source": [
    "## AIM: To understand the behavior of monthly sunspot activity data and visualize it. Perform exploratory data analysis and required pre processing steps on the data."
   ]
  },
  {
   "cell_type": "markdown",
   "id": "b214d8f7",
   "metadata": {},
   "source": [
    "### Loading the necessary libraries"
   ]
  },
  {
   "cell_type": "code",
   "execution_count": 90,
   "id": "5659059d",
   "metadata": {},
   "outputs": [],
   "source": [
    "import pandas as pd \n",
    "import numpy as np \n",
    "import matplotlib.pyplot as plt \n",
    "import seaborn as sns"
   ]
  },
  {
   "cell_type": "markdown",
   "id": "ee1ae009",
   "metadata": {},
   "source": [
    "## Data Preprocessing"
   ]
  },
  {
   "cell_type": "markdown",
   "id": "a40b053a",
   "metadata": {},
   "source": [
    "### Loading the dataset"
   ]
  },
  {
   "cell_type": "code",
   "execution_count": 91,
   "id": "b8119a24",
   "metadata": {},
   "outputs": [
    {
     "data": {
      "application/vnd.microsoft.datawrangler.viewer.v0+json": {
       "columns": [
        {
         "name": "index",
         "rawType": "int64",
         "type": "integer"
        },
        {
         "name": "Month",
         "rawType": "object",
         "type": "string"
        },
        {
         "name": "Sunspots",
         "rawType": "float64",
         "type": "float"
        }
       ],
       "conversionMethod": "pd.DataFrame",
       "ref": "bc451824-b484-4741-bc95-f6bb48a04b0d",
       "rows": [
        [
         "0",
         "1749-01",
         "58.0"
        ],
        [
         "1",
         "1749-02",
         "62.6"
        ],
        [
         "2",
         "1749-03",
         "70.0"
        ],
        [
         "3",
         "1749-04",
         "55.7"
        ],
        [
         "4",
         "1749-05",
         "85.0"
        ]
       ],
       "shape": {
        "columns": 2,
        "rows": 5
       }
      },
      "text/html": [
       "<div>\n",
       "<style scoped>\n",
       "    .dataframe tbody tr th:only-of-type {\n",
       "        vertical-align: middle;\n",
       "    }\n",
       "\n",
       "    .dataframe tbody tr th {\n",
       "        vertical-align: top;\n",
       "    }\n",
       "\n",
       "    .dataframe thead th {\n",
       "        text-align: right;\n",
       "    }\n",
       "</style>\n",
       "<table border=\"1\" class=\"dataframe\">\n",
       "  <thead>\n",
       "    <tr style=\"text-align: right;\">\n",
       "      <th></th>\n",
       "      <th>Month</th>\n",
       "      <th>Sunspots</th>\n",
       "    </tr>\n",
       "  </thead>\n",
       "  <tbody>\n",
       "    <tr>\n",
       "      <th>0</th>\n",
       "      <td>1749-01</td>\n",
       "      <td>58.0</td>\n",
       "    </tr>\n",
       "    <tr>\n",
       "      <th>1</th>\n",
       "      <td>1749-02</td>\n",
       "      <td>62.6</td>\n",
       "    </tr>\n",
       "    <tr>\n",
       "      <th>2</th>\n",
       "      <td>1749-03</td>\n",
       "      <td>70.0</td>\n",
       "    </tr>\n",
       "    <tr>\n",
       "      <th>3</th>\n",
       "      <td>1749-04</td>\n",
       "      <td>55.7</td>\n",
       "    </tr>\n",
       "    <tr>\n",
       "      <th>4</th>\n",
       "      <td>1749-05</td>\n",
       "      <td>85.0</td>\n",
       "    </tr>\n",
       "  </tbody>\n",
       "</table>\n",
       "</div>"
      ],
      "text/plain": [
       "     Month  Sunspots\n",
       "0  1749-01      58.0\n",
       "1  1749-02      62.6\n",
       "2  1749-03      70.0\n",
       "3  1749-04      55.7\n",
       "4  1749-05      85.0"
      ]
     },
     "execution_count": 91,
     "metadata": {},
     "output_type": "execute_result"
    }
   ],
   "source": [
    "df = pd.read_csv(\"Sunspot.csv\")\n",
    "df.head() # displaying the first few rows of the dataset"
   ]
  },
  {
   "cell_type": "code",
   "execution_count": 92,
   "id": "c5799bda",
   "metadata": {},
   "outputs": [
    {
     "name": "stdout",
     "output_type": "stream",
     "text": [
      "<class 'pandas.core.frame.DataFrame'>\n",
      "RangeIndex: 2820 entries, 0 to 2819\n",
      "Data columns (total 2 columns):\n",
      " #   Column    Non-Null Count  Dtype  \n",
      "---  ------    --------------  -----  \n",
      " 0   Month     2820 non-null   object \n",
      " 1   Sunspots  2820 non-null   float64\n",
      "dtypes: float64(1), object(1)\n",
      "memory usage: 44.2+ KB\n"
     ]
    }
   ],
   "source": [
    "df.info()"
   ]
  },
  {
   "cell_type": "markdown",
   "id": "01abecd5",
   "metadata": {},
   "source": [
    "### Renaming month column as Time-Stamp"
   ]
  },
  {
   "cell_type": "code",
   "execution_count": 93,
   "id": "19a00d0c",
   "metadata": {},
   "outputs": [],
   "source": [
    "df.rename(columns={'Month': 'Time-Stamp'}, inplace=True)"
   ]
  },
  {
   "cell_type": "code",
   "execution_count": 94,
   "id": "59af5c72",
   "metadata": {},
   "outputs": [
    {
     "data": {
      "application/vnd.microsoft.datawrangler.viewer.v0+json": {
       "columns": [
        {
         "name": "index",
         "rawType": "int64",
         "type": "integer"
        },
        {
         "name": "Time-Stamp",
         "rawType": "object",
         "type": "string"
        },
        {
         "name": "Sunspots",
         "rawType": "float64",
         "type": "float"
        }
       ],
       "conversionMethod": "pd.DataFrame",
       "ref": "b2f82e70-a02d-4966-900e-0838ca12df67",
       "rows": [
        [
         "0",
         "1749-01",
         "58.0"
        ],
        [
         "1",
         "1749-02",
         "62.6"
        ],
        [
         "2",
         "1749-03",
         "70.0"
        ],
        [
         "3",
         "1749-04",
         "55.7"
        ],
        [
         "4",
         "1749-05",
         "85.0"
        ]
       ],
       "shape": {
        "columns": 2,
        "rows": 5
       }
      },
      "text/html": [
       "<div>\n",
       "<style scoped>\n",
       "    .dataframe tbody tr th:only-of-type {\n",
       "        vertical-align: middle;\n",
       "    }\n",
       "\n",
       "    .dataframe tbody tr th {\n",
       "        vertical-align: top;\n",
       "    }\n",
       "\n",
       "    .dataframe thead th {\n",
       "        text-align: right;\n",
       "    }\n",
       "</style>\n",
       "<table border=\"1\" class=\"dataframe\">\n",
       "  <thead>\n",
       "    <tr style=\"text-align: right;\">\n",
       "      <th></th>\n",
       "      <th>Time-Stamp</th>\n",
       "      <th>Sunspots</th>\n",
       "    </tr>\n",
       "  </thead>\n",
       "  <tbody>\n",
       "    <tr>\n",
       "      <th>0</th>\n",
       "      <td>1749-01</td>\n",
       "      <td>58.0</td>\n",
       "    </tr>\n",
       "    <tr>\n",
       "      <th>1</th>\n",
       "      <td>1749-02</td>\n",
       "      <td>62.6</td>\n",
       "    </tr>\n",
       "    <tr>\n",
       "      <th>2</th>\n",
       "      <td>1749-03</td>\n",
       "      <td>70.0</td>\n",
       "    </tr>\n",
       "    <tr>\n",
       "      <th>3</th>\n",
       "      <td>1749-04</td>\n",
       "      <td>55.7</td>\n",
       "    </tr>\n",
       "    <tr>\n",
       "      <th>4</th>\n",
       "      <td>1749-05</td>\n",
       "      <td>85.0</td>\n",
       "    </tr>\n",
       "  </tbody>\n",
       "</table>\n",
       "</div>"
      ],
      "text/plain": [
       "  Time-Stamp  Sunspots\n",
       "0    1749-01      58.0\n",
       "1    1749-02      62.6\n",
       "2    1749-03      70.0\n",
       "3    1749-04      55.7\n",
       "4    1749-05      85.0"
      ]
     },
     "execution_count": 94,
     "metadata": {},
     "output_type": "execute_result"
    }
   ],
   "source": [
    "df.head()"
   ]
  },
  {
   "cell_type": "markdown",
   "id": "8b87c37c",
   "metadata": {},
   "source": [
    "### Converting the Month column to datetime and setting as index."
   ]
  },
  {
   "cell_type": "code",
   "execution_count": 95,
   "id": "ed01c592",
   "metadata": {},
   "outputs": [],
   "source": [
    "df['Time-Stamp'] = pd.to_datetime(df['Time-Stamp'])\n",
    "df.set_index('Time-Stamp', inplace = True)"
   ]
  },
  {
   "cell_type": "code",
   "execution_count": 96,
   "id": "97e4ba9d",
   "metadata": {},
   "outputs": [
    {
     "data": {
      "application/vnd.microsoft.datawrangler.viewer.v0+json": {
       "columns": [
        {
         "name": "Time-Stamp",
         "rawType": "datetime64[ns]",
         "type": "datetime"
        },
        {
         "name": "Sunspots",
         "rawType": "float64",
         "type": "float"
        }
       ],
       "conversionMethod": "pd.DataFrame",
       "ref": "317289d6-a387-4ef2-8046-56ec0a02180f",
       "rows": [
        [
         "1749-01-01 00:00:00",
         "58.0"
        ],
        [
         "1749-02-01 00:00:00",
         "62.6"
        ],
        [
         "1749-03-01 00:00:00",
         "70.0"
        ],
        [
         "1749-04-01 00:00:00",
         "55.7"
        ],
        [
         "1749-05-01 00:00:00",
         "85.0"
        ]
       ],
       "shape": {
        "columns": 1,
        "rows": 5
       }
      },
      "text/html": [
       "<div>\n",
       "<style scoped>\n",
       "    .dataframe tbody tr th:only-of-type {\n",
       "        vertical-align: middle;\n",
       "    }\n",
       "\n",
       "    .dataframe tbody tr th {\n",
       "        vertical-align: top;\n",
       "    }\n",
       "\n",
       "    .dataframe thead th {\n",
       "        text-align: right;\n",
       "    }\n",
       "</style>\n",
       "<table border=\"1\" class=\"dataframe\">\n",
       "  <thead>\n",
       "    <tr style=\"text-align: right;\">\n",
       "      <th></th>\n",
       "      <th>Sunspots</th>\n",
       "    </tr>\n",
       "    <tr>\n",
       "      <th>Time-Stamp</th>\n",
       "      <th></th>\n",
       "    </tr>\n",
       "  </thead>\n",
       "  <tbody>\n",
       "    <tr>\n",
       "      <th>1749-01-01</th>\n",
       "      <td>58.0</td>\n",
       "    </tr>\n",
       "    <tr>\n",
       "      <th>1749-02-01</th>\n",
       "      <td>62.6</td>\n",
       "    </tr>\n",
       "    <tr>\n",
       "      <th>1749-03-01</th>\n",
       "      <td>70.0</td>\n",
       "    </tr>\n",
       "    <tr>\n",
       "      <th>1749-04-01</th>\n",
       "      <td>55.7</td>\n",
       "    </tr>\n",
       "    <tr>\n",
       "      <th>1749-05-01</th>\n",
       "      <td>85.0</td>\n",
       "    </tr>\n",
       "  </tbody>\n",
       "</table>\n",
       "</div>"
      ],
      "text/plain": [
       "            Sunspots\n",
       "Time-Stamp          \n",
       "1749-01-01      58.0\n",
       "1749-02-01      62.6\n",
       "1749-03-01      70.0\n",
       "1749-04-01      55.7\n",
       "1749-05-01      85.0"
      ]
     },
     "execution_count": 96,
     "metadata": {},
     "output_type": "execute_result"
    }
   ],
   "source": [
    "df.head()"
   ]
  },
  {
   "cell_type": "markdown",
   "id": "c70cb486",
   "metadata": {},
   "source": [
    "### Handling missing values"
   ]
  },
  {
   "cell_type": "code",
   "execution_count": 97,
   "id": "dd82ea88",
   "metadata": {},
   "outputs": [
    {
     "data": {
      "text/plain": [
       "Sunspots    0\n",
       "dtype: int64"
      ]
     },
     "execution_count": 97,
     "metadata": {},
     "output_type": "execute_result"
    }
   ],
   "source": [
    "df.isnull().sum()"
   ]
  },
  {
   "cell_type": "markdown",
   "id": "f77ca9f3",
   "metadata": {},
   "source": [
    "- the dataset has no missing values"
   ]
  },
  {
   "cell_type": "markdown",
   "id": "3ee6203e",
   "metadata": {},
   "source": [
    "## Exploratory Data Analysis"
   ]
  },
  {
   "cell_type": "markdown",
   "id": "3bd8a02a",
   "metadata": {},
   "source": [
    "### Display summary statistics (count, mean, std, min, max, etc.)."
   ]
  },
  {
   "cell_type": "code",
   "execution_count": 98,
   "id": "38453589",
   "metadata": {},
   "outputs": [
    {
     "name": "stdout",
     "output_type": "stream",
     "text": [
      "\n",
      "Summary Statistics:\n",
      "           Sunspots\n",
      "count  2820.000000\n",
      "mean     51.265957\n",
      "std      43.448971\n",
      "min       0.000000\n",
      "25%      15.700000\n",
      "50%      42.000000\n",
      "75%      74.925000\n",
      "max     253.800000\n"
     ]
    }
   ],
   "source": [
    "## Summary Statistics\n",
    "print(\"\\nSummary Statistics:\\n\", df.describe())"
   ]
  },
  {
   "cell_type": "markdown",
   "id": "5673c480",
   "metadata": {},
   "source": [
    "### Plot a line chart showing sunspot activity over time."
   ]
  },
  {
   "cell_type": "code",
   "execution_count": 99,
   "id": "996d10b0",
   "metadata": {},
   "outputs": [
    {
     "data": {
      "image/png": "[encoded data removed]",
      "text/plain": [
       "<Figure size 1200x600 with 1 Axes>"
      ]
     },
     "metadata": {},
     "output_type": "display_data"
    }
   ],
   "source": [
    "plt.figure(figsize = (12,6))\n",
    "plt.plot(df.index,df['Sunspots'],label='Trend of Sunspot over time')\n",
    "plt.title(\"Sunspot activity over time\")\n",
    "plt.xlabel(\"Time (Year)\")\n",
    "plt.ylabel(\"Sunspots\")\n",
    "plt.grid(True, linestyle='--', alpha = 0.5)\n",
    "plt.legend()\n",
    "plt.show()"
   ]
  },
  {
   "cell_type": "markdown",
   "id": "e8a44dfd",
   "metadata": {},
   "source": [
    "- The plot shows sunspot activity trends across time.\n",
    "- There is a regular cyclic pattern, but the intensity of peaks varies across cycles, indicating periodic but varying sunspot activity"
   ]
  },
  {
   "cell_type": "markdown",
   "id": "245c82a8",
   "metadata": {},
   "source": [
    "| **Name**         | Tufan Kundu               |\n",
    "|------------------|---------------------------|\n",
    "| **Reg No.**      | 24MDT0184                 |\n",
    "| **Course Name**  | Regression Analysis and Predictive Models Lab    |\n",
    "| **Course Code**  | PMDS504P                  |\n",
    "| **Set**   | B  |\n",
    "| **Assessment**   | Digital Assessment 5  |\n"
   ]
  },
  {
   "cell_type": "markdown",
   "id": "7f647138",
   "metadata": {},
   "source": [
    "# QUESTION 2: Stationarity Check & Autocorrelation Analysis"
   ]
  },
  {
   "cell_type": "markdown",
   "id": "3de224ec",
   "metadata": {},
   "source": [
    "## AIM: To check Stationarity and perform Autocorrelation Analysis on the monthly sunspot activity dataset."
   ]
  },
  {
   "cell_type": "markdown",
   "id": "ab954bc0",
   "metadata": {},
   "source": [
    "## Stationarity Check"
   ]
  },
  {
   "cell_type": "markdown",
   "id": "0eb27f48",
   "metadata": {},
   "source": [
    "### Apply the Augmented Dickey-Fuller (ADF) test"
   ]
  },
  {
   "cell_type": "code",
   "execution_count": 100,
   "id": "2ec6304a",
   "metadata": {},
   "outputs": [],
   "source": [
    "from statsmodels.tsa.stattools import adfuller\n",
    "from statsmodels.graphics.tsaplots import plot_acf"
   ]
  },
  {
   "cell_type": "code",
   "execution_count": 101,
   "id": "6f445a6d",
   "metadata": {},
   "outputs": [
    {
     "name": "stdout",
     "output_type": "stream",
     "text": [
      "\n",
      "--- ADF Test Results ---\n",
      "ADF Statistic        : -9.5677\n",
      "p-value              : 0.0000\n",
      "Number of lags used  : 27\n",
      "Number of observations used: 2792\n",
      "Critical Values      :\n",
      "   1%: -3.4327\n",
      "   5%: -2.8626\n",
      "   10%: -2.5673\n",
      "\n",
      "Conclusion: The series is stationary, so we reject the null hypothesis.\n"
     ]
    }
   ],
   "source": [
    "# Applying (ADF) Test\n",
    "adf_result = adfuller(df['Sunspots'])\n",
    "\n",
    "# Printing the  results\n",
    "print(\"\\n--- ADF Test Results ---\")\n",
    "print(f\"ADF Statistic        : {adf_result[0]:.4f}\")\n",
    "print(f\"p-value              : {adf_result[1]:.4f}\")\n",
    "print(f\"Number of lags used  : {adf_result[2]}\")\n",
    "print(f\"Number of observations used: {adf_result[3]}\")\n",
    "print(\"Critical Values      :\")\n",
    "for key, value in adf_result[4].items():\n",
    "    print(f\"   {key}: {value:.4f}\")\n",
    "\n",
    "# Interpretation\n",
    "if adf_result[1] < 0.05:\n",
    "    print(\"\\nConclusion: The series is stationary, so we reject the null hypothesis.\")\n",
    "else:\n",
    "    print(\"\\nConclusion: The series is not stationary, so we fail to reject the null hypothesis.\")"
   ]
  },
  {
   "cell_type": "markdown",
   "id": "a8a4b6f7",
   "metadata": {},
   "source": [
    "##  b) Autocorrelation Analysis "
   ]
  },
  {
   "cell_type": "code",
   "execution_count": 103,
   "id": "2105b829",
   "metadata": {},
   "outputs": [
    {
     "data": {
      "text/plain": [
       "<Figure size 1000x400 with 0 Axes>"
      ]
     },
     "metadata": {},
     "output_type": "display_data"
    },
    {
     "data": {
      "image/png": "[encoded data removed]",
      "text/plain": [
       "<Figure size 640x480 with 1 Axes>"
      ]
     },
     "metadata": {},
     "output_type": "display_data"
    }
   ],
   "source": [
    "### Plotting the autocorrelation function\n",
    "\n",
    "plt.figure(figsize=(10, 4))\n",
    "plot_acf(df['Sunspots'], lags=40)\n",
    "plt.title('Autocorrelation of Sunspots')\n",
    "plt.tight_layout()\n",
    "plt.show()"
   ]
  },
  {
   "cell_type": "markdown",
   "id": "0f5c80bd",
   "metadata": {},
   "source": [
    "## Interpretation \n",
    "- The first lag has a high autocorrelation, which is expected as a time series is always correlated with itself at lag 0.\n",
    "- The autocorrelation slowly decreases and remains significantly positive for many lags.\n",
    "- The autocorrelation slowly decreases and remains significantly positive for many lags\n"
   ]
  }
 ],
 "metadata": {
  "kernelspec": {
   "display_name": "base",
   "language": "python",
   "name": "python3"
  },
  "language_info": {
   "codemirror_mode": {
    "name": "ipython",
    "version": 3
   },
   "file_extension": ".py",
   "mimetype": "text/x-python",
   "name": "python",
   "nbconvert_exporter": "python",
   "pygments_lexer": "ipython3",
   "version": "3.12.4"
  }
 },
 "nbformat": 4,
 "nbformat_minor": 5
}
