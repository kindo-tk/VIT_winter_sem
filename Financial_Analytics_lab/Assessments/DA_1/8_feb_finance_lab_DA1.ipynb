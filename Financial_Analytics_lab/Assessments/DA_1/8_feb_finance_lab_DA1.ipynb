{
 "cells": [
  {
   "cell_type": "markdown",
   "id": "a9f9488e",
   "metadata": {},
   "source": [
    "# Name: Tufan Kundu\n",
    "# Reg No.: 24MDT0184"
   ]
  },
  {
   "cell_type": "markdown",
   "id": "a4973bae",
   "metadata": {},
   "source": [
    "## Digital Assignment-Financial Analytics \n",
    "## Winter 2024-25 "
   ]
  },
  {
   "cell_type": "markdown",
   "id": "618c48aa",
   "metadata": {},
   "source": [
    "## Q1:\n",
    "### Design a portfolio for a person aged 40 with an initial corpus of 10000000. He has the following goals: at the age of 42 he needs 2000000 and he needs 50,00000 at the age of 48. Also, he has a monthly SIP of 20,000. calculate the retirement corpus at the age of 60 by assuming the debt interest rate of 6% per annum and equity interest rate of 14% per annum. Provide the solution using MS excel sheet. Also generate a python code for the same. "
   ]
  },
  {
   "cell_type": "markdown",
   "id": "7d943320",
   "metadata": {},
   "source": [
    "## Initial Parameters"
   ]
  },
  {
   "cell_type": "code",
   "execution_count": 13,
   "id": "a2b97f75",
   "metadata": {},
   "outputs": [],
   "source": [
    "initial_corpus = 10000000\n",
    "p_eq = initial_corpus / 2  # 50% in equity\n",
    "p_dt = initial_corpus / 2  # 50% in debt\n",
    "r_eq = 0.14  # Equity return rate\n",
    "r_dt = 0.06  # Debt return rate\n",
    "monthly_sip = 20000\n",
    "retirement_age = 60\n",
    "initial_age = 40"
   ]
  },
  {
   "cell_type": "markdown",
   "id": "b8589ddb",
   "metadata": {},
   "source": [
    "## Function to calculate SIP corpus"
   ]
  },
  {
   "cell_type": "code",
   "execution_count": 14,
   "id": "af56e063",
   "metadata": {},
   "outputs": [],
   "source": [
    "def sip_corpus(monthly_investment, rate, years):\n",
    "    annual_investment = monthly_investment * 12\n",
    "    amount = 0\n",
    "    for _ in range(years+1):\n",
    "        amount = (amount + annual_investment) * (1 + rate)\n",
    "    return amount"
   ]
  },
  {
   "cell_type": "markdown",
   "id": "bfe6eb39",
   "metadata": {},
   "source": [
    "## Function to calculate debt/equity returns with compound interest"
   ]
  },
  {
   "cell_type": "code",
   "execution_count": 15,
   "id": "8fb151fd",
   "metadata": {},
   "outputs": [],
   "source": [
    "def future_value(principal, rate, time):\n",
    "    return principal * (1 + rate) ** time"
   ]
  },
  {
   "cell_type": "code",
   "execution_count": 16,
   "id": "d5690bea",
   "metadata": {},
   "outputs": [
    {
     "name": "stdout",
     "output_type": "stream",
     "text": [
      "At the age of 60, he can retire with a corpus of:₹ 8,42,38,461.87\n"
     ]
    }
   ],
   "source": [
    "# Computing corpus at age 42 after withdrawal of ₹20,00,000\n",
    "amount_42 = future_value(p_dt, r_dt, 2) - 2000000\n",
    "\n",
    "# Computing corpus at age 48 after withdrawal of ₹50,00,000\n",
    "amount_48 = future_value(amount_42, r_dt, 6) - 5000000\n",
    "\n",
    "# Computing corpus at age 58 from all sources\n",
    "amount_58 =(\n",
    "    future_value(amount_48, r_eq, 10) +  # Growth of remaining debt corpus by putting in equity\n",
    "    future_value(p_eq, r_eq, 18) +  # Growth of initial equity corpus \n",
    "    sip_corpus(monthly_sip, r_eq, 18)  # SIP accumulation\n",
    ")\n",
    "\n",
    "# Putting the entire corpus in debt for 2 years to avoid volatility\n",
    "retirement_corpus = future_value(amount_58, r_dt, 2)\n",
    "\n",
    "# Display Result in Indian Number Format\n",
    "import locale # for Indian number formatting\n",
    "# Set locale to Indian format\n",
    "locale.setlocale(locale.LC_ALL, 'en_IN')\n",
    "# Print the amount in Indian format\n",
    "formatted_amount = locale.format_string(\"₹ %.2f\", retirement_corpus, grouping=True)\n",
    "\n",
    "print(f\"At the age of 60, he can retire with a corpus of:{formatted_amount}\")"
   ]
  },
  {
   "cell_type": "markdown",
   "id": "889613b3",
   "metadata": {},
   "source": [
    "## Q2. \n",
    "### Design a portfolio for a person aged 40 with an initial corpus of 10000000. He has the following goals: \n",
    "- at the age of 42 he needs 2000000 and \n",
    "- he needs 50,00000 at the age of 48. \n",
    "### The portfolio needs to be created by using investments in Future and index fund. Calculate the retirement corpus at the age of 60 by assuming the index fund interest rate of 14% per annum and the bet on strike price of the Future is 2% per month. Also , it is assumed that the wining bet is 9 times in a year for Future.  Provide the solution using MS excel sheet. Also generate a python code for the same."
   ]
  },
  {
   "cell_type": "markdown",
   "id": "d16e7be2",
   "metadata": {},
   "source": [
    "## Initial Parameters"
   ]
  },
  {
   "cell_type": "code",
   "execution_count": 17,
   "id": "25553faf",
   "metadata": {},
   "outputs": [],
   "source": [
    "initial_corpus = 10000000  # ₹1 Crore\n",
    "p_future = 2000000  # ₹20L in Future investment\n",
    "p_eq = initial_corpus - p_future  # Remaining in Equity\n",
    "r_eq = 0.14  # Index Fund return (14% p.a.)\n",
    "r_future = 0.18  # Effective annual return from Future (18% p.a.) as 9 out of 12 times is winning bet\n",
    "retirement_age = 60\n",
    "initial_age = 40"
   ]
  },
  {
   "cell_type": "markdown",
   "id": "54615efa",
   "metadata": {},
   "source": [
    "## Function to calculate future value with compound interest"
   ]
  },
  {
   "cell_type": "code",
   "execution_count": 18,
   "id": "9ccc3d32",
   "metadata": {},
   "outputs": [],
   "source": [
    "def future_value(principal, rate, time):\n",
    "    return principal * (1 + rate) ** time\n"
   ]
  },
  {
   "cell_type": "code",
   "execution_count": 19,
   "id": "e890617d",
   "metadata": {},
   "outputs": [
    {
     "name": "stdout",
     "output_type": "stream",
     "text": [
      "At the age of 60, he can retire with a corpus of:₹ 9,44,48,994.42\n"
     ]
    }
   ],
   "source": [
    "# Computing corpus at age 42 after Future investment\n",
    "amount_42_future = future_value(p_future, r_future, 2)\n",
    "amount_42 = amount_42_future - 2000000  # Withdrawal at age 42\n",
    "amount__47 = future_value(amount_42, r_eq, 5)  # Invest in Equity for 5 years\n",
    "\n",
    "amount_48_future = future_value(amount__47, r_future, 1)\n",
    "\n",
    "# equity investment for 8 years till age 48\n",
    "amount_eq_48 = future_value(p_eq, r_eq, 8)\n",
    "\n",
    "# Total corpus at 48 after taking out 50 lakhs\n",
    "amount_48_total = amount_48_future+amount_eq_48 - 5000000  # Withdrawal of 50 lakhs at age 48\n",
    "\n",
    "# Equity investment for 12 years till age 60\n",
    "amount_60 = future_value(amount_48_total, r_eq, 12)\n",
    "\n",
    "# Display Result in Indian Number Format\n",
    "import locale # for Indian number formatting\n",
    "# Set locale to Indian format\n",
    "locale.setlocale(locale.LC_ALL, 'en_IN')\n",
    "# Print the amount in Indian format\n",
    "formatted_amount = locale.format_string(\"₹ %.2f\", amount_60, grouping=True)\n",
    "\n",
    "print(f\"At the age of 60, he can retire with a corpus of:{formatted_amount}\")"
   ]
  }
 ],
 "metadata": {
  "kernelspec": {
   "display_name": "base",
   "language": "python",
   "name": "python3"
  },
  "language_info": {
   "codemirror_mode": {
    "name": "ipython",
    "version": 3
   },
   "file_extension": ".py",
   "mimetype": "text/x-python",
   "name": "python",
   "nbconvert_exporter": "python",
   "pygments_lexer": "ipython3",
   "version": "3.12.4"
  }
 },
 "nbformat": 4,
 "nbformat_minor": 5
}
