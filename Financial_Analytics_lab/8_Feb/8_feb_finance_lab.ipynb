{
 "cells": [
  {
   "cell_type": "markdown",
   "id": "a4973bae",
   "metadata": {},
   "source": [
    "# 8 Feb\n",
    "## Financial analytics lab"
   ]
  },
  {
   "cell_type": "markdown",
   "id": "618c48aa",
   "metadata": {},
   "source": [
    "# Q1"
   ]
  },
  {
   "cell_type": "code",
   "execution_count": 15,
   "id": "a2b97f75",
   "metadata": {},
   "outputs": [],
   "source": [
    "initial_corpus = 10000000\n",
    "p_eq = initial_corpus/2\n",
    "p_dt = initial_corpus/2\n",
    "r_eq = .14\n",
    "r_dt = 0.06\n",
    "monthly_sip = 20000\n",
    "retirement_age = 60\n",
    "initial_age = 40"
   ]
  },
  {
   "cell_type": "markdown",
   "id": "b8589ddb",
   "metadata": {},
   "source": [
    "## Function for calculating the SIP amount"
   ]
  },
  {
   "cell_type": "code",
   "execution_count": 17,
   "id": "af56e063",
   "metadata": {},
   "outputs": [],
   "source": [
    "def sip(monthly_investment,time):\n",
    "    year_end = monthly_investment*12\n",
    "    amount = 0\n",
    "    for i in range(0,time+1):\n",
    "        amount = (amount+year_end)*(1+r_eq)\n",
    "    return amount"
   ]
  },
  {
   "cell_type": "code",
   "execution_count": 21,
   "id": "9144314a",
   "metadata": {},
   "outputs": [],
   "source": [
    "courpous_through_sip = sip(monthly_sip,18)"
   ]
  },
  {
   "cell_type": "code",
   "execution_count": 22,
   "id": "26118d7c",
   "metadata": {},
   "outputs": [
    {
     "data": {
      "text/plain": [
       "21605982.63746573"
      ]
     },
     "execution_count": 22,
     "metadata": {},
     "output_type": "execute_result"
    }
   ],
   "source": [
    "courpous_through_sip"
   ]
  },
  {
   "cell_type": "markdown",
   "id": "bfe6eb39",
   "metadata": {},
   "source": [
    "## Function for debt or equity"
   ]
  },
  {
   "cell_type": "code",
   "execution_count": 24,
   "id": "8fb151fd",
   "metadata": {},
   "outputs": [],
   "source": [
    "def return_calculator(p,r,t):\n",
    "    return p*(1+r)**t"
   ]
  },
  {
   "cell_type": "code",
   "execution_count": 27,
   "id": "293683e6",
   "metadata": {},
   "outputs": [
    {
     "data": {
      "text/plain": [
       "3618000.000000001"
      ]
     },
     "execution_count": 27,
     "metadata": {},
     "output_type": "execute_result"
    }
   ],
   "source": [
    "## At the age 42 he needs 20 lakhs\n",
    "\n",
    "amount_42 = return_calculator(p_dt,r_dt,2) - 2000000\n",
    "amount_42"
   ]
  },
  {
   "cell_type": "code",
   "execution_count": 35,
   "id": "0dc87e63",
   "metadata": {},
   "outputs": [
    {
     "data": {
      "text/plain": [
       "132202.1481422102"
      ]
     },
     "execution_count": 35,
     "metadata": {},
     "output_type": "execute_result"
    }
   ],
   "source": [
    "## At age 48 he needs 50 lakhs\n",
    "amount_48 = return_calculator(amount_42,r_dt,6) - 5000000\n",
    "amount_48"
   ]
  },
  {
   "cell_type": "code",
   "execution_count": 36,
   "id": "2b259e3f",
   "metadata": {},
   "outputs": [
    {
     "data": {
      "text/plain": [
       "74971931.1800951"
      ]
     },
     "execution_count": 36,
     "metadata": {},
     "output_type": "execute_result"
    }
   ],
   "source": [
    "amount_58 = return_calculator(amount_48,r_eq,10) + return_calculator(p_eq,r_eq,18)+courpous_through_sip\n",
    "amount_58"
   ]
  },
  {
   "cell_type": "code",
   "execution_count": 37,
   "id": "e1f652ce",
   "metadata": {},
   "outputs": [
    {
     "name": "stdout",
     "output_type": "stream",
     "text": [
      "At the age of 60 he can retire with an corpus of:₹ 84238461.87395488\n"
     ]
    }
   ],
   "source": [
    "## This amount is put in debt for 2 years for less volatility\n",
    "retirement_corpus = return_calculator(amount_58,r_dt,2)\n",
    "print(\"At the age of 60 he can retire with an corpus of:₹\",retirement_corpus)"
   ]
  }
 ],
 "metadata": {
  "kernelspec": {
   "display_name": "base",
   "language": "python",
   "name": "python3"
  },
  "language_info": {
   "codemirror_mode": {
    "name": "ipython",
    "version": 3
   },
   "file_extension": ".py",
   "mimetype": "text/x-python",
   "name": "python",
   "nbconvert_exporter": "python",
   "pygments_lexer": "ipython3",
   "version": "3.12.4"
  }
 },
 "nbformat": 4,
 "nbformat_minor": 5
}
