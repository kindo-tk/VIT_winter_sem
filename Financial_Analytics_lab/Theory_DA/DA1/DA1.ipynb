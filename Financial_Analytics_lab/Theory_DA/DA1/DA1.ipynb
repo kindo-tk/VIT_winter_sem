{
 "cells": [
  {
   "cell_type": "markdown",
   "metadata": {},
   "source": [
    "| **Name**         | Tufan Kundu               |\n",
    "|------------------|---------------------------|\n",
    "| **Reg No.**      | 24MDT0184                 |\n",
    "| **Course Name**  | Financial Analytics    |\n",
    "| **Course Code**  | PMDS610L                  |\n",
    "| **Assessment**   | Digital Assignment 1  |"
   ]
  },
  {
   "cell_type": "markdown",
   "metadata": {},
   "source": [
    "# Problem Statement\n",
    "We need to design an investment portfolio for an individual with no initial corpus, investing ₹20,000 per month via a Systematic Investment Plan (SIP) for 15 years. The portfolio will consist of:\n",
    "- 2 Mutual Funds\n",
    "- 5 Stocks"
   ]
  },
  {
   "cell_type": "code",
   "execution_count": 5,
   "metadata": {},
   "outputs": [
    {
     "name": "stdout",
     "output_type": "stream",
     "text": [
      "ASIANPAINT.BO: CAGR over 10 years = 11.97%\n",
      "BAJFINANCE.BO: CAGR over 10 years = 36.58%\n",
      "MARUTI.BO: CAGR over 10 years = 13.08%\n",
      "TITAN.BO: CAGR over 10 years = 23.07%\n",
      "HINDUNILVR.BO: CAGR over 10 years = 11.17%\n"
     ]
    }
   ],
   "source": [
    "import yfinance as yf\n",
    "import warnings\n",
    "warnings.filterwarnings(\"ignore\")\n",
    "tickers = ['ASIANPAINT.BO', 'BAJFINANCE.BO', 'MARUTI.BO', 'TITAN.BO', 'HINDUNILVR.BO']\n",
    "\n",
    "for ticker in tickers:\n",
    "    stock = yf.Ticker(ticker)\n",
    "    df = stock.history(period=\"10y\")\n",
    "    \n",
    "    if df.empty:\n",
    "        print(f\"{ticker}: No data found.\")\n",
    "        continue\n",
    "    \n",
    "    df['Return'] = df['Close'].pct_change()\n",
    "    start_price = df['Close'].iloc[0]\n",
    "    end_price = df['Close'].iloc[-1]\n",
    "    cagr = (end_price / start_price) ** (1/10) - 1\n",
    "    \n",
    "    print(f\"{ticker}: CAGR over 10 years = {cagr:.2%}\")"
   ]
  },
  {
   "cell_type": "markdown",
   "metadata": {},
   "source": [
    "### Defining investment details"
   ]
  },
  {
   "cell_type": "code",
   "execution_count": 9,
   "metadata": {},
   "outputs": [],
   "source": [
    "sip_per_month = 20000\n",
    "years = 15\n",
    "total_invested = sip_per_month * years * 12\n",
    "\n",
    "allocation = {\n",
    "    \"Mtilal Oswal Midcap FDG\": 0.20,  # 20% allocation\n",
    "    \"SBI PSU\": 0.20,  # 20% allocation\n",
    "    \"ASIANPAINT.BO\": 0.12,        # 12% allocation\n",
    "    \"BAJFINANCE.BO\": 0.12,\n",
    "    \"MARUTI.BO\": 0.12,\n",
    "    \"TITAN.BO\": 0.12,\n",
    "    \"HINDUNILVR.BO\": 0.12\n",
    "}\n",
    "\n",
    "historical_returns = {\n",
    "    \"Mtilal Oswal Midcap FDG\": 23.19,  # last 10 year avg return\n",
    "    \"SBI PSU\": 11.50,\n",
    "    \"ASIANPAINT.BO\": 11.97,       \n",
    "    \"BAJFINANCE.BO\": 36.58,\n",
    "    \"MARUTI.BO\": 13.08,\n",
    "    \"TITAN.BO\": 23.07,\n",
    "    \"HINDUNILVR.BO\": 11.17\n",
    "}\n"
   ]
  },
  {
   "cell_type": "markdown",
   "metadata": {},
   "source": [
    "### Defining a function to calculate the future value by SIP investment"
   ]
  },
  {
   "cell_type": "code",
   "execution_count": 10,
   "metadata": {},
   "outputs": [],
   "source": [
    "def calculate_future_value(sip, years, annual_return):\n",
    "    months = years * 12\n",
    "    monthly_rate = (1 + annual_return / 100) ** (1 / 12) - 1  \n",
    "    # Future value formula: FV = P * [((1 + r)^n - 1) / r] * (1 + r) (Assuming SIP is paid at the beginning of the month)\n",
    "    future_value = sip * (((1 + monthly_rate) ** months - 1) / monthly_rate) * (1 + monthly_rate)\n",
    "    return future_value"
   ]
  },
  {
   "cell_type": "markdown",
   "metadata": {},
   "source": [
    "### Calculating future value for each investment"
   ]
  },
  {
   "cell_type": "code",
   "execution_count": 12,
   "metadata": {},
   "outputs": [
    {
     "name": "stdout",
     "output_type": "stream",
     "text": [
      "\n",
      "SIP Portfolio (₹20000 per month for 15 years)\n",
      "Future Value of Mtilal Oswal Midcap FDG: ₹5069544.67\n",
      "Future Value of SBI PSU: ₹1824223.80\n",
      "Future Value of ASIANPAINT.BO: ₹1139311.16\n",
      "Future Value of BAJFINANCE.BO: ₹9953378.47\n",
      "Future Value of MARUTI.BO: ₹1253049.56\n",
      "Future Value of TITAN.BO: ₹3009504.64\n",
      "Future Value of HINDUNILVR.BO: ₹1064229.64\n",
      "\n",
      "Summary:\n",
      "Monthly SIP Amount          : ₹20000\n",
      "Investment Duration         : 15 years\n",
      "Total Invested Amount       : ₹3,600,000.00\n",
      "Expected Portfolio Value    : ₹23,313,241.94\n",
      "Estimated Total Return      : ₹19,713,241.94\n"
     ]
    }
   ],
   "source": [
    "portfolio_value = 0\n",
    "print(f\"\\nSIP Portfolio (₹{sip_per_month:} per month for {years} years)\")\n",
    "for asset, weight in allocation.items():\n",
    "    sip_amount = sip_per_month * weight\n",
    "    future_val = calculate_future_value(sip_amount, years, historical_returns[asset])\n",
    "    portfolio_value += future_val\n",
    "    print(f\"Future Value of {asset}: ₹{future_val:.2f}\")\n",
    "\n",
    "# Calculating total return \n",
    "total_return = portfolio_value - total_invested\n",
    "\n",
    "print(\"\\nSummary:\")\n",
    "print(f\"Monthly SIP Amount          : ₹{sip_per_month}\")\n",
    "print(f\"Investment Duration         : {years} years\")\n",
    "print(f\"Total Invested Amount       : ₹{total_invested:,.2f}\")\n",
    "print(f\"Expected Portfolio Value    : ₹{portfolio_value:,.2f}\")\n",
    "print(f\"Estimated Total Return      : ₹{total_return:,.2f}\")"
   ]
  },
  {
   "cell_type": "markdown",
   "metadata": {},
   "source": [
    "## Conclusion\n",
    "Total portfolio value after 15 Years is ₹2,33,13,241.94"
   ]
  }
 ],
 "metadata": {
  "kernelspec": {
   "display_name": "base",
   "language": "python",
   "name": "python3"
  },
  "language_info": {
   "codemirror_mode": {
    "name": "ipython",
    "version": 3
   },
   "file_extension": ".py",
   "mimetype": "text/x-python",
   "name": "python",
   "nbconvert_exporter": "python",
   "pygments_lexer": "ipython3",
   "version": "3.12.4"
  }
 },
 "nbformat": 4,
 "nbformat_minor": 2
}
