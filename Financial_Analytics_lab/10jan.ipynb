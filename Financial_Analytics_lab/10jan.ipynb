{
 "cells": [
  {
   "cell_type": "markdown",
   "metadata": {},
   "source": [
    "## Suppose a person of age 40 has initial corpus 10000000. suppose he wants to withdraw 6 lakhs year for next 5 years. Calculate the amount of money he will have assuming the debt has 7% interest and equity 14% return. "
   ]
  },
  {
   "cell_type": "code",
   "execution_count": 13,
   "metadata": {},
   "outputs": [
    {
     "name": "stdout",
     "output_type": "stream",
     "text": [
      "After 10 years the remaining amount with him is: ₹13993582.824\n"
     ]
    }
   ],
   "source": [
    "# Initial corpus\n",
    "initial_corpus = 10000000\n",
    "\n",
    "\n",
    "# Equity and debt return rates\n",
    "equity_rate = 0.14\n",
    "debt_rate = 0.07\n",
    "\n",
    "# Start with the entire corpus in equity (remaining after allocating for withdrawals)\n",
    "remaining_corpus = initial_corpus\n",
    "\n",
    "withdrawal_per_year = 600000\n",
    "debt_allocation = withdrawal_per_year * 5  # Total debt for withdrawals\n",
    "    \n",
    "# Remaining corpus stays in equity\n",
    "equity_allocation = remaining_corpus - debt_allocation\n",
    "    \n",
    "# Calculate debt year by year with withdrawals\n",
    "for year in range(5):\n",
    "    debt_allocation = (debt_allocation - withdrawal_per_year) * (1 + debt_rate)\n",
    "    \n",
    "# Let equity grow for 5 years\n",
    "equity_allocation *= (1 + equity_rate) ** 5\n",
    "    \n",
    "# Update remaining corpus after the 5 years\n",
    "remaining_corpus = equity_allocation + debt_allocation\n",
    "\n",
    "print(f\"After 10 years the remaining amount with him is: ₹{round(remaining_corpus,3)}\")\n"
   ]
  },
  {
   "cell_type": "markdown",
   "metadata": {},
   "source": [
    "## Suppose a person of age 40 has initial corpus 10000000. suppose he wants to withdraw 6 lakhs/ year for next 20 years with an increment of 50% in every 5 years. Calculate the amount of money he will have assuming the debt has 7% interest and equity 14% return. "
   ]
  },
  {
   "cell_type": "code",
   "execution_count": 9,
   "metadata": {},
   "outputs": [
    {
     "name": "stdout",
     "output_type": "stream",
     "text": [
      "After 20 years the remaining amount with him is: ₹30088098.66\n"
     ]
    }
   ],
   "source": [
    "# Initial corpus\n",
    "initial_corpus = 10000000\n",
    "\n",
    "# Annual withdrawal amounts for each 5-year period\n",
    "withdrawals_5_years = [600000 * 5, 600000 * 1.5 * 5, 600000 * 1.5 *1.5 * 5, 600000 * 1.5 *1.5 *1.5 * 5]\n",
    "\n",
    "# Equity and debt return rates\n",
    "equity_rate = 0.14\n",
    "debt_rate = 0.07\n",
    "\n",
    "# Start with the entire corpus in equity (remaining after allocating for withdrawals)\n",
    "remaining_corpus = initial_corpus\n",
    "\n",
    "for period in range(4):  # Four 5-year periods\n",
    "    # Allocate for withdrawals for the current 5 years\n",
    "    withdrawal_per_year = withdrawals_5_years[period] // 5\n",
    "    debt_allocation = withdrawal_per_year * 5  # Total debt for withdrawals\n",
    "    \n",
    "    # Remaining corpus stays in equity\n",
    "    equity_allocation = remaining_corpus - debt_allocation\n",
    "    \n",
    "    # Calculate debt year by year with withdrawals\n",
    "    for year in range(5):\n",
    "        debt_allocation = (debt_allocation - withdrawal_per_year) * (1 + debt_rate)\n",
    "    \n",
    "    # Let equity grow for 5 years\n",
    "    equity_allocation *= (1 + equity_rate) ** 5\n",
    "    \n",
    "    # Update remaining corpus after the 5 years\n",
    "    remaining_corpus = equity_allocation + debt_allocation\n",
    "\n",
    "print(f\"After 20 years the remaining amount with him is: ₹{round(remaining_corpus,3)}\")\n"
   ]
  }
 ],
 "metadata": {
  "kernelspec": {
   "display_name": "base",
   "language": "python",
   "name": "python3"
  },
  "language_info": {
   "codemirror_mode": {
    "name": "ipython",
    "version": 3
   },
   "file_extension": ".py",
   "mimetype": "text/x-python",
   "name": "python",
   "nbconvert_exporter": "python",
   "pygments_lexer": "ipython3",
   "version": "3.12.4"
  }
 },
 "nbformat": 4,
 "nbformat_minor": 2
}
